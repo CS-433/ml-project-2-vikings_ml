{
  "cells": [
    {
      "cell_type": "markdown",
      "metadata": {
        "id": "XDSdgEhNiECY"
      },
      "source": [
        "### Imports and setup"
      ]
    },
    {
      "cell_type": "code",
      "execution_count": null,
      "metadata": {
        "colab": {
          "base_uri": "https://localhost:8080/"
        },
        "id": "xjKCvSy6ykuO",
        "outputId": "0d48bfd3-7324-463f-9348-b4756268b4cd"
      },
      "outputs": [
        {
          "name": "stdout",
          "output_type": "stream",
          "text": [
            "Mounted at /content/drive\n"
          ]
        }
      ],
      "source": [
        "from google.colab import drive\n",
        "drive.mount('/content/drive')"
      ]
    },
    {
      "cell_type": "code",
      "execution_count": null,
      "metadata": {
        "colab": {
          "base_uri": "https://localhost:8080/"
        },
        "id": "u3xpOLoisyOz",
        "outputId": "96f64dd1-b0ca-41a0-a89a-98fbf6a556ec"
      },
      "outputs": [
        {
          "name": "stdout",
          "output_type": "stream",
          "text": [
            "Collecting segmentation-models\n",
            "  Downloading segmentation_models-1.0.1-py3-none-any.whl (33 kB)\n",
            "Collecting image-classifiers==1.0.0\n",
            "  Downloading image_classifiers-1.0.0-py3-none-any.whl (19 kB)\n",
            "Collecting keras-applications<=1.0.8,>=1.0.7\n",
            "  Downloading Keras_Applications-1.0.8-py3-none-any.whl (50 kB)\n",
            "\u001b[K     |████████████████████████████████| 50 kB 5.8 MB/s \n",
            "\u001b[?25hCollecting efficientnet==1.0.0\n",
            "  Downloading efficientnet-1.0.0-py3-none-any.whl (17 kB)\n",
            "Requirement already satisfied: scikit-image in /usr/local/lib/python3.7/dist-packages (from efficientnet==1.0.0->segmentation-models) (0.18.3)\n",
            "Requirement already satisfied: numpy>=1.9.1 in /usr/local/lib/python3.7/dist-packages (from keras-applications<=1.0.8,>=1.0.7->segmentation-models) (1.19.5)\n",
            "Requirement already satisfied: h5py in /usr/local/lib/python3.7/dist-packages (from keras-applications<=1.0.8,>=1.0.7->segmentation-models) (3.1.0)\n",
            "Requirement already satisfied: cached-property in /usr/local/lib/python3.7/dist-packages (from h5py->keras-applications<=1.0.8,>=1.0.7->segmentation-models) (1.5.2)\n",
            "Requirement already satisfied: pillow!=7.1.0,!=7.1.1,>=4.3.0 in /usr/local/lib/python3.7/dist-packages (from scikit-image->efficientnet==1.0.0->segmentation-models) (7.1.2)\n",
            "Requirement already satisfied: PyWavelets>=1.1.1 in /usr/local/lib/python3.7/dist-packages (from scikit-image->efficientnet==1.0.0->segmentation-models) (1.2.0)\n",
            "Requirement already satisfied: networkx>=2.0 in /usr/local/lib/python3.7/dist-packages (from scikit-image->efficientnet==1.0.0->segmentation-models) (2.6.3)\n",
            "Requirement already satisfied: matplotlib!=3.0.0,>=2.0.0 in /usr/local/lib/python3.7/dist-packages (from scikit-image->efficientnet==1.0.0->segmentation-models) (3.2.2)\n",
            "Requirement already satisfied: scipy>=1.0.1 in /usr/local/lib/python3.7/dist-packages (from scikit-image->efficientnet==1.0.0->segmentation-models) (1.4.1)\n",
            "Requirement already satisfied: tifffile>=2019.7.26 in /usr/local/lib/python3.7/dist-packages (from scikit-image->efficientnet==1.0.0->segmentation-models) (2021.11.2)\n",
            "Requirement already satisfied: imageio>=2.3.0 in /usr/local/lib/python3.7/dist-packages (from scikit-image->efficientnet==1.0.0->segmentation-models) (2.4.1)\n",
            "Requirement already satisfied: pyparsing!=2.0.4,!=2.1.2,!=2.1.6,>=2.0.1 in /usr/local/lib/python3.7/dist-packages (from matplotlib!=3.0.0,>=2.0.0->scikit-image->efficientnet==1.0.0->segmentation-models) (3.0.6)\n",
            "Requirement already satisfied: kiwisolver>=1.0.1 in /usr/local/lib/python3.7/dist-packages (from matplotlib!=3.0.0,>=2.0.0->scikit-image->efficientnet==1.0.0->segmentation-models) (1.3.2)\n",
            "Requirement already satisfied: cycler>=0.10 in /usr/local/lib/python3.7/dist-packages (from matplotlib!=3.0.0,>=2.0.0->scikit-image->efficientnet==1.0.0->segmentation-models) (0.11.0)\n",
            "Requirement already satisfied: python-dateutil>=2.1 in /usr/local/lib/python3.7/dist-packages (from matplotlib!=3.0.0,>=2.0.0->scikit-image->efficientnet==1.0.0->segmentation-models) (2.8.2)\n",
            "Requirement already satisfied: six>=1.5 in /usr/local/lib/python3.7/dist-packages (from python-dateutil>=2.1->matplotlib!=3.0.0,>=2.0.0->scikit-image->efficientnet==1.0.0->segmentation-models) (1.15.0)\n",
            "Installing collected packages: keras-applications, image-classifiers, efficientnet, segmentation-models\n",
            "Successfully installed efficientnet-1.0.0 image-classifiers-1.0.0 keras-applications-1.0.8 segmentation-models-1.0.1\n"
          ]
        }
      ],
      "source": [
        "pip install -U segmentation-models"
      ]
    },
    {
      "cell_type": "code",
      "execution_count": null,
      "metadata": {
        "colab": {
          "base_uri": "https://localhost:8080/"
        },
        "id": "nKqf07V1qSUh",
        "outputId": "f5f9719f-2396-4bc4-abe8-90e65165341d"
      },
      "outputs": [
        {
          "name": "stdout",
          "output_type": "stream",
          "text": [
            "Segmentation Models: using `keras` framework.\n"
          ]
        }
      ],
      "source": [
        "import numpy as np\n",
        "import tensorflow as tf\n",
        "import tensorflow.keras as keras\n",
        "from tensorflow.keras.preprocessing.image import ImageDataGenerator\n",
        "import segmentation_models as sm\n",
        "import os\n",
        "import matplotlib.image as mpimg\n",
        "from PIL import Image\n",
        "import cv2"
      ]
    },
    {
      "cell_type": "code",
      "execution_count": null,
      "metadata": {},
      "outputs": [],
      "source": [
        "!unzip \"/content/drive/My Drive/ml/data.zip\" -d \"/content\""
      ]
    },
    {
      "cell_type": "code",
      "execution_count": null,
      "metadata": {},
      "outputs": [],
      "source": [
        "!unzip \"/content/drive/My Drive/ml/images.zip\" -d \"/content\""
      ]
    },
    {
      "cell_type": "markdown",
      "metadata": {
        "id": "SDgkrL0WiJvB"
      },
      "source": [
        "### Extracting data and masks"
      ]
    },
    {
      "cell_type": "code",
      "execution_count": null,
      "metadata": {
        "id": "_ki5BIQi-2ew"
      },
      "outputs": [],
      "source": [
        "def extract_data(folderpath):\n",
        "    \"\"\" (ETH) Extract the images into a 4D tensor [image index, y, x, channels].\n",
        "    Values are rescaled from [0, 255] down to [-0.5, 0.5].\n",
        "\n",
        "    Parameters\n",
        "    ----------\n",
        "    filename: string\n",
        "        The name of the image file\n",
        "    num_images: int\n",
        "        The number of images that should be extracted\n",
        "\n",
        "    Returns\n",
        "    -------\n",
        "    data: ndarray\n",
        "        A numpy array containting the images\n",
        "    \"\"\"\n",
        "    files = os.listdir(folderpath)\n",
        "    n = len(files)\n",
        "    imgs = [(mpimg.imread(folderpath+files[i])) for i in range(n)]\n",
        "    data = np.asarray(imgs)\n",
        "    return data\n",
        "\n",
        "def extract_data_test(folderpath):\n",
        "    \"\"\" (ETH) Extract the images into a 4D tensor [image index, y, x, channels].\n",
        "    Values are rescaled from [0, 255] down to [-0.5, 0.5].\n",
        "\n",
        "    Parameters\n",
        "    ----------\n",
        "    filename: string\n",
        "        The name of the image file\n",
        "    num_images: int\n",
        "        The number of images that should be extracted\n",
        "\n",
        "    Returns\n",
        "    -------\n",
        "    data: ndarray\n",
        "        A numpy array containting the images\n",
        "    \"\"\"\n",
        "    imgs=[]\n",
        "    for i in range(1,51):\n",
        "      img = mpimg.imread(folderpath+'test_%d.png'%i)\n",
        "      imgs.append(img)\n",
        "    data = np.asarray(imgs)\n",
        "    return data\n",
        "\n",
        "\n",
        "def extract_labels(folderpath):\n",
        "    \"\"\" (ETH) Extract the labels into a 1-hot matrix [image index, label index].\n",
        "    \n",
        "    Parameters\n",
        "    ----------\n",
        "    filename: string\n",
        "        The name of the image file\n",
        "    num_images: int\n",
        "        The number of images\n",
        "    \n",
        "    Returns\n",
        "    --------\n",
        "    labels: ndarray\n",
        "        1-hot matrix [image index, label index]\n",
        "    \"\"\"\n",
        "    gt_imgs = []\n",
        "    files = os.listdir(folderpath)\n",
        "    n = len(files)\n",
        "    for i in range(n):\n",
        "        img = mpimg.imread(folderpath+files[i])\n",
        "        try:\n",
        "            gt_imgs.append(img[:,:,0])\n",
        "        except:\n",
        "            gt_imgs.append(img)\n",
        "\n",
        "    return np.asarray(gt_imgs)"
      ]
    },
    {
      "cell_type": "code",
      "execution_count": null,
      "metadata": {
        "id": "HAmIB_Ly-doI"
      },
      "outputs": [],
      "source": [
        "\n",
        "\n",
        "train_data_path = '/content/data_volt/training/images/'\n",
        "train_labels_path = '/content/data_volt/training/groundtruth/'\n",
        "#val_data_path = '/content/training/images/'\n",
        "#val_labels_path = '/content/training/groundtruth/10-split/'\n",
        "\n",
        "x_train = extract_data(train_data_path)\n",
        "#x_val = extract_data(val_data_path)\n",
        "y_train = extract_labels(train_labels_path)\n",
        "#y_val = extract_labels(val_labels_path)"
      ]
    },
    {
      "cell_type": "code",
      "execution_count": null,
      "metadata": {
        "id": "95ry9mfNhIdQ"
      },
      "outputs": [],
      "source": [
        "x_val = x_train[1360:]\n",
        "y_val = y_train[1360:]\n",
        "x_train = x_train[0:1360]\n",
        "y_train = y_train[0:1360]"
      ]
    },
    {
      "cell_type": "code",
      "execution_count": null,
      "metadata": {
        "colab": {
          "base_uri": "https://localhost:8080/"
        },
        "id": "yUI9uvsIGZw7",
        "outputId": "004f25a6-ea6a-4c4c-a190-752fe3438446"
      },
      "outputs": [
        {
          "data": {
            "text/plain": [
              "(1360, 256, 256, 3)"
            ]
          },
          "execution_count": 18,
          "metadata": {},
          "output_type": "execute_result"
        }
      ],
      "source": [
        "x_train.shape"
      ]
    },
    {
      "cell_type": "markdown",
      "metadata": {
        "id": "R32kGRAuiNB2"
      },
      "source": [
        "### Model time"
      ]
    },
    {
      "cell_type": "code",
      "execution_count": null,
      "metadata": {
        "id": "MNd54Ooqqevz"
      },
      "outputs": [],
      "source": [
        "sm.set_framework('tf.keras')\n",
        "import math\n",
        "keras.backend.clear_session()\n",
        "BACKBONE = 'resnet34'\n",
        "preprocess_input = sm.get_preprocessing(BACKBONE)\n",
        "from sklearn.model_selection import train_test_split\n",
        "\n",
        "# preprocess input\n",
        "x_train = preprocess_input(x_train)\n",
        "x_val = preprocess_input(x_val)\n"
      ]
    },
    {
      "cell_type": "code",
      "execution_count": null,
      "metadata": {
        "colab": {
          "base_uri": "https://localhost:8080/",
          "height": 1000
        },
        "id": "DD_zSEI4AERZ",
        "outputId": "cef1ed69-e1b8-4e07-a624-4bb2d244fa9a"
      },
      "outputs": [
        {
          "name": "stderr",
          "output_type": "stream",
          "text": [
            "/usr/local/lib/python3.7/dist-packages/keras/engine/functional.py:1410: CustomMaskWarning: Custom mask layers require a config and must override get_config. When loading, the custom mask layer must be passed to the custom_objects argument.\n",
            "  layer_config = serialize_layer_fn(layer)\n"
          ]
        },
        {
          "name": "stdout",
          "output_type": "stream",
          "text": [
            "Epoch 1/50\n",
            "43/43 [==============================] - 56s 1s/step - loss: 1.0729 - iou_score: 0.3130 - f1-score: 0.4672 - accuracy: 0.6731 - val_loss: 3.6639 - val_iou_score: 0.0045 - val_f1-score: 0.0090 - val_accuracy: 0.7711\n",
            "Epoch 2/50\n",
            "43/43 [==============================] - 49s 1s/step - loss: 0.7228 - iou_score: 0.5268 - f1-score: 0.6894 - accuracy: 0.7329 - val_loss: 3.3626 - val_iou_score: 0.0018 - val_f1-score: 0.0037 - val_accuracy: 0.7743\n",
            "Epoch 3/50\n",
            "43/43 [==============================] - 49s 1s/step - loss: 0.5972 - iou_score: 0.6135 - f1-score: 0.7601 - accuracy: 0.7441 - val_loss: 1.6000 - val_iou_score: 0.0400 - val_f1-score: 0.0768 - val_accuracy: 0.7743\n",
            "Epoch 4/50\n",
            "43/43 [==============================] - 44s 1s/step - loss: 0.5427 - iou_score: 0.6510 - f1-score: 0.7884 - accuracy: 0.7470 - val_loss: 1.6561 - val_iou_score: 0.0342 - val_f1-score: 0.0660 - val_accuracy: 0.7743\n",
            "Epoch 5/50\n",
            "43/43 [==============================] - 44s 1s/step - loss: 0.4979 - iou_score: 0.6801 - f1-score: 0.8094 - accuracy: 0.7494 - val_loss: 1.7435 - val_iou_score: 0.0200 - val_f1-score: 0.0392 - val_accuracy: 0.7743\n",
            "Epoch 6/50\n",
            "43/43 [==============================] - 44s 1s/step - loss: 0.4575 - iou_score: 0.7066 - f1-score: 0.8280 - accuracy: 0.7524 - val_loss: 2.0498 - val_iou_score: 0.0036 - val_f1-score: 0.0072 - val_accuracy: 0.7743\n",
            "Epoch 7/50\n",
            "43/43 [==============================] - 44s 1s/step - loss: 0.4213 - iou_score: 0.7305 - f1-score: 0.8442 - accuracy: 0.7548 - val_loss: 2.0796 - val_iou_score: 0.0035 - val_f1-score: 0.0070 - val_accuracy: 0.7743\n",
            "Epoch 8/50\n",
            "43/43 [==============================] - 44s 1s/step - loss: 0.4125 - iou_score: 0.7365 - f1-score: 0.8481 - accuracy: 0.7544 - val_loss: 2.1238 - val_iou_score: 0.0053 - val_f1-score: 0.0105 - val_accuracy: 0.7743\n",
            "Epoch 9/50\n",
            "43/43 [==============================] - 44s 1s/step - loss: 0.3951 - iou_score: 0.7471 - f1-score: 0.8551 - accuracy: 0.7555 - val_loss: 2.3095 - val_iou_score: 0.0016 - val_f1-score: 0.0031 - val_accuracy: 0.7743\n",
            "Epoch 10/50\n",
            "43/43 [==============================] - 44s 1s/step - loss: 0.3666 - iou_score: 0.7664 - f1-score: 0.8677 - accuracy: 0.7570 - val_loss: 2.1916 - val_iou_score: 0.0026 - val_f1-score: 0.0052 - val_accuracy: 0.7743\n",
            "Epoch 11/50\n",
            "43/43 [==============================] - 44s 1s/step - loss: 0.3597 - iou_score: 0.7710 - f1-score: 0.8706 - accuracy: 0.7574 - val_loss: 1.9020 - val_iou_score: 0.0116 - val_f1-score: 0.0229 - val_accuracy: 0.7743\n",
            "Epoch 12/50\n",
            "43/43 [==============================] - 44s 1s/step - loss: 0.3344 - iou_score: 0.7877 - f1-score: 0.8812 - accuracy: 0.7585 - val_loss: 2.4567 - val_iou_score: 0.0012 - val_f1-score: 0.0023 - val_accuracy: 0.7743\n",
            "Epoch 13/50\n",
            "43/43 [==============================] - 44s 1s/step - loss: 0.3322 - iou_score: 0.7894 - f1-score: 0.8823 - accuracy: 0.7582 - val_loss: 1.8223 - val_iou_score: 0.0140 - val_f1-score: 0.0276 - val_accuracy: 0.7743\n",
            "Epoch 14/50\n",
            "43/43 [==============================] - 49s 1s/step - loss: 0.3144 - iou_score: 0.8008 - f1-score: 0.8893 - accuracy: 0.7590 - val_loss: 1.5948 - val_iou_score: 0.0364 - val_f1-score: 0.0702 - val_accuracy: 0.7742\n",
            "Epoch 15/50\n",
            "43/43 [==============================] - 49s 1s/step - loss: 0.3000 - iou_score: 0.8103 - f1-score: 0.8952 - accuracy: 0.7594 - val_loss: 1.5910 - val_iou_score: 0.0345 - val_f1-score: 0.0668 - val_accuracy: 0.7742\n",
            "Epoch 16/50\n",
            "43/43 [==============================] - 49s 1s/step - loss: 0.3024 - iou_score: 0.8095 - f1-score: 0.8947 - accuracy: 0.7592 - val_loss: 1.4314 - val_iou_score: 0.0869 - val_f1-score: 0.1599 - val_accuracy: 0.7672\n",
            "Epoch 17/50\n",
            "43/43 [==============================] - 45s 1s/step - loss: 0.3165 - iou_score: 0.8001 - f1-score: 0.8889 - accuracy: 0.7588 - val_loss: 2.5298 - val_iou_score: 0.0036 - val_f1-score: 0.0072 - val_accuracy: 0.7737\n",
            "Epoch 18/50\n",
            "43/43 [==============================] - 44s 1s/step - loss: 0.3719 - iou_score: 0.7646 - f1-score: 0.8663 - accuracy: 0.7556 - val_loss: 2.2905 - val_iou_score: 0.2164 - val_f1-score: 0.3555 - val_accuracy: 0.3046\n",
            "Epoch 19/50\n",
            "43/43 [==============================] - 44s 1s/step - loss: 0.4607 - iou_score: 0.7085 - f1-score: 0.8292 - accuracy: 0.7515 - val_loss: 4.4773 - val_iou_score: 0.1731 - val_f1-score: 0.2950 - val_accuracy: 7.4499e-06\n",
            "Epoch 20/50\n",
            "43/43 [==============================] - 44s 1s/step - loss: 0.4354 - iou_score: 0.7206 - f1-score: 0.8373 - accuracy: 0.7525 - val_loss: 1.4942 - val_iou_score: 0.1995 - val_f1-score: 0.3320 - val_accuracy: 0.7391\n",
            "Epoch 21/50\n",
            "43/43 [==============================] - 49s 1s/step - loss: 0.3648 - iou_score: 0.7679 - f1-score: 0.8686 - accuracy: 0.7565 - val_loss: 1.4155 - val_iou_score: 0.2297 - val_f1-score: 0.3705 - val_accuracy: 0.7707\n",
            "Epoch 22/50\n",
            "43/43 [==============================] - 49s 1s/step - loss: 0.3325 - iou_score: 0.7893 - f1-score: 0.8822 - accuracy: 0.7581 - val_loss: 0.7795 - val_iou_score: 0.5106 - val_f1-score: 0.6753 - val_accuracy: 0.7619\n",
            "Epoch 23/50\n",
            "43/43 [==============================] - 49s 1s/step - loss: 0.3035 - iou_score: 0.8084 - f1-score: 0.8940 - accuracy: 0.7594 - val_loss: 0.7599 - val_iou_score: 0.5326 - val_f1-score: 0.6944 - val_accuracy: 0.7695\n",
            "Epoch 24/50\n",
            "43/43 [==============================] - 49s 1s/step - loss: 0.2883 - iou_score: 0.8181 - f1-score: 0.8999 - accuracy: 0.7597 - val_loss: 0.6430 - val_iou_score: 0.6154 - val_f1-score: 0.7615 - val_accuracy: 0.7659\n",
            "Epoch 25/50\n",
            "43/43 [==============================] - 49s 1s/step - loss: 0.2707 - iou_score: 0.8302 - f1-score: 0.9072 - accuracy: 0.7603 - val_loss: 0.5160 - val_iou_score: 0.6814 - val_f1-score: 0.8101 - val_accuracy: 0.7680\n",
            "Epoch 26/50\n",
            "43/43 [==============================] - 49s 1s/step - loss: 0.2681 - iou_score: 0.8321 - f1-score: 0.9084 - accuracy: 0.7603 - val_loss: 0.4514 - val_iou_score: 0.7195 - val_f1-score: 0.8366 - val_accuracy: 0.7678\n",
            "Epoch 27/50\n",
            "43/43 [==============================] - 49s 1s/step - loss: 0.2625 - iou_score: 0.8358 - f1-score: 0.9105 - accuracy: 0.7603 - val_loss: 0.4215 - val_iou_score: 0.7440 - val_f1-score: 0.8531 - val_accuracy: 0.7670\n",
            "Epoch 28/50\n",
            "43/43 [==============================] - 49s 1s/step - loss: 0.2537 - iou_score: 0.8423 - f1-score: 0.9144 - accuracy: 0.7606 - val_loss: 0.4109 - val_iou_score: 0.7490 - val_f1-score: 0.8564 - val_accuracy: 0.7675\n",
            "Epoch 29/50\n",
            "43/43 [==============================] - 49s 1s/step - loss: 0.2489 - iou_score: 0.8449 - f1-score: 0.9159 - accuracy: 0.7606 - val_loss: 0.3922 - val_iou_score: 0.7608 - val_f1-score: 0.8640 - val_accuracy: 0.7690\n",
            "Epoch 30/50\n",
            "43/43 [==============================] - 45s 1s/step - loss: 0.2486 - iou_score: 0.8458 - f1-score: 0.9164 - accuracy: 0.7607 - val_loss: 0.4002 - val_iou_score: 0.7674 - val_f1-score: 0.8683 - val_accuracy: 0.7700\n",
            "Epoch 31/50\n",
            "43/43 [==============================] - 44s 1s/step - loss: 0.2554 - iou_score: 0.8416 - f1-score: 0.9140 - accuracy: 0.7605 - val_loss: 0.4601 - val_iou_score: 0.7329 - val_f1-score: 0.8458 - val_accuracy: 0.7708\n",
            "Epoch 32/50\n",
            "43/43 [==============================] - 44s 1s/step - loss: 0.2626 - iou_score: 0.8364 - f1-score: 0.9109 - accuracy: 0.7602 - val_loss: 0.4198 - val_iou_score: 0.7577 - val_f1-score: 0.8620 - val_accuracy: 0.7697\n",
            "Epoch 33/50\n",
            "43/43 [==============================] - 44s 1s/step - loss: 0.2453 - iou_score: 0.8478 - f1-score: 0.9176 - accuracy: 0.7607 - val_loss: 0.3932 - val_iou_score: 0.7686 - val_f1-score: 0.8690 - val_accuracy: 0.7700\n",
            "Epoch 34/50\n",
            "43/43 [==============================] - 49s 1s/step - loss: 0.2393 - iou_score: 0.8519 - f1-score: 0.9200 - accuracy: 0.7608 - val_loss: 0.3907 - val_iou_score: 0.7715 - val_f1-score: 0.8708 - val_accuracy: 0.7703\n",
            "Epoch 35/50\n",
            "43/43 [==============================] - 49s 1s/step - loss: 0.2378 - iou_score: 0.8528 - f1-score: 0.9206 - accuracy: 0.7608 - val_loss: 0.3871 - val_iou_score: 0.7742 - val_f1-score: 0.8726 - val_accuracy: 0.7697\n",
            "Epoch 36/50\n",
            "43/43 [==============================] - 49s 1s/step - loss: 0.2353 - iou_score: 0.8549 - f1-score: 0.9217 - accuracy: 0.7608 - val_loss: 0.3804 - val_iou_score: 0.7772 - val_f1-score: 0.8745 - val_accuracy: 0.7700\n",
            "Epoch 37/50\n",
            "43/43 [==============================] - 45s 1s/step - loss: 0.2353 - iou_score: 0.8548 - f1-score: 0.9217 - accuracy: 0.7609 - val_loss: 0.4011 - val_iou_score: 0.7716 - val_f1-score: 0.8709 - val_accuracy: 0.7676\n",
            "Epoch 38/50\n",
            "15/43 [=========>....................] - ETA: 27s - loss: 0.2366 - iou_score: 0.8542 - f1-score: 0.9213 - accuracy: 0.7631"
          ]
        },
        {
          "ename": "KeyboardInterrupt",
          "evalue": "ignored",
          "output_type": "error",
          "traceback": [
            "\u001b[0;31m---------------------------------------------------------------------------\u001b[0m",
            "\u001b[0;31mKeyboardInterrupt\u001b[0m                         Traceback (most recent call last)",
            "\u001b[0;32m<ipython-input-20-6778490acd35>\u001b[0m in \u001b[0;36m<module>\u001b[0;34m()\u001b[0m\n\u001b[1;32m     18\u001b[0m    \u001b[0mepochs\u001b[0m\u001b[0;34m=\u001b[0m\u001b[0;36m50\u001b[0m\u001b[0;34m,\u001b[0m \u001b[0mbatch_size\u001b[0m\u001b[0;34m=\u001b[0m\u001b[0;36m32\u001b[0m\u001b[0;34m,\u001b[0m\u001b[0;34m\u001b[0m\u001b[0;34m\u001b[0m\u001b[0m\n\u001b[1;32m     19\u001b[0m    \u001b[0mcallbacks\u001b[0m\u001b[0;34m=\u001b[0m\u001b[0mcallbacks\u001b[0m\u001b[0;34m,\u001b[0m\u001b[0;34m\u001b[0m\u001b[0;34m\u001b[0m\u001b[0m\n\u001b[0;32m---> 20\u001b[0;31m    \u001b[0mvalidation_data\u001b[0m\u001b[0;34m=\u001b[0m\u001b[0;34m(\u001b[0m\u001b[0mx_val\u001b[0m\u001b[0;34m,\u001b[0m\u001b[0my_val\u001b[0m\u001b[0;34m)\u001b[0m\u001b[0;34m\u001b[0m\u001b[0;34m\u001b[0m\u001b[0m\n\u001b[0m\u001b[1;32m     21\u001b[0m )\n",
            "\u001b[0;32m/usr/local/lib/python3.7/dist-packages/keras/utils/traceback_utils.py\u001b[0m in \u001b[0;36merror_handler\u001b[0;34m(*args, **kwargs)\u001b[0m\n\u001b[1;32m     62\u001b[0m     \u001b[0mfiltered_tb\u001b[0m \u001b[0;34m=\u001b[0m \u001b[0;32mNone\u001b[0m\u001b[0;34m\u001b[0m\u001b[0;34m\u001b[0m\u001b[0m\n\u001b[1;32m     63\u001b[0m     \u001b[0;32mtry\u001b[0m\u001b[0;34m:\u001b[0m\u001b[0;34m\u001b[0m\u001b[0;34m\u001b[0m\u001b[0m\n\u001b[0;32m---> 64\u001b[0;31m       \u001b[0;32mreturn\u001b[0m \u001b[0mfn\u001b[0m\u001b[0;34m(\u001b[0m\u001b[0;34m*\u001b[0m\u001b[0margs\u001b[0m\u001b[0;34m,\u001b[0m \u001b[0;34m**\u001b[0m\u001b[0mkwargs\u001b[0m\u001b[0;34m)\u001b[0m\u001b[0;34m\u001b[0m\u001b[0;34m\u001b[0m\u001b[0m\n\u001b[0m\u001b[1;32m     65\u001b[0m     \u001b[0;32mexcept\u001b[0m \u001b[0mException\u001b[0m \u001b[0;32mas\u001b[0m \u001b[0me\u001b[0m\u001b[0;34m:\u001b[0m  \u001b[0;31m# pylint: disable=broad-except\u001b[0m\u001b[0;34m\u001b[0m\u001b[0;34m\u001b[0m\u001b[0m\n\u001b[1;32m     66\u001b[0m       \u001b[0mfiltered_tb\u001b[0m \u001b[0;34m=\u001b[0m \u001b[0m_process_traceback_frames\u001b[0m\u001b[0;34m(\u001b[0m\u001b[0me\u001b[0m\u001b[0;34m.\u001b[0m\u001b[0m__traceback__\u001b[0m\u001b[0;34m)\u001b[0m\u001b[0;34m\u001b[0m\u001b[0;34m\u001b[0m\u001b[0m\n",
            "\u001b[0;32m/usr/local/lib/python3.7/dist-packages/keras/engine/training.py\u001b[0m in \u001b[0;36mfit\u001b[0;34m(self, x, y, batch_size, epochs, verbose, callbacks, validation_split, validation_data, shuffle, class_weight, sample_weight, initial_epoch, steps_per_epoch, validation_steps, validation_batch_size, validation_freq, max_queue_size, workers, use_multiprocessing)\u001b[0m\n\u001b[1;32m   1219\u001b[0m               \u001b[0mlogs\u001b[0m \u001b[0;34m=\u001b[0m \u001b[0mtmp_logs\u001b[0m  \u001b[0;31m# No error, now safe to assign to logs.\u001b[0m\u001b[0;34m\u001b[0m\u001b[0;34m\u001b[0m\u001b[0m\n\u001b[1;32m   1220\u001b[0m               \u001b[0mend_step\u001b[0m \u001b[0;34m=\u001b[0m \u001b[0mstep\u001b[0m \u001b[0;34m+\u001b[0m \u001b[0mdata_handler\u001b[0m\u001b[0;34m.\u001b[0m\u001b[0mstep_increment\u001b[0m\u001b[0;34m\u001b[0m\u001b[0;34m\u001b[0m\u001b[0m\n\u001b[0;32m-> 1221\u001b[0;31m               \u001b[0mcallbacks\u001b[0m\u001b[0;34m.\u001b[0m\u001b[0mon_train_batch_end\u001b[0m\u001b[0;34m(\u001b[0m\u001b[0mend_step\u001b[0m\u001b[0;34m,\u001b[0m \u001b[0mlogs\u001b[0m\u001b[0;34m)\u001b[0m\u001b[0;34m\u001b[0m\u001b[0;34m\u001b[0m\u001b[0m\n\u001b[0m\u001b[1;32m   1222\u001b[0m               \u001b[0;32mif\u001b[0m \u001b[0mself\u001b[0m\u001b[0;34m.\u001b[0m\u001b[0mstop_training\u001b[0m\u001b[0;34m:\u001b[0m\u001b[0;34m\u001b[0m\u001b[0;34m\u001b[0m\u001b[0m\n\u001b[1;32m   1223\u001b[0m                 \u001b[0;32mbreak\u001b[0m\u001b[0;34m\u001b[0m\u001b[0;34m\u001b[0m\u001b[0m\n",
            "\u001b[0;32m/usr/local/lib/python3.7/dist-packages/keras/callbacks.py\u001b[0m in \u001b[0;36mon_train_batch_end\u001b[0;34m(self, batch, logs)\u001b[0m\n\u001b[1;32m    434\u001b[0m     \"\"\"\n\u001b[1;32m    435\u001b[0m     \u001b[0;32mif\u001b[0m \u001b[0mself\u001b[0m\u001b[0;34m.\u001b[0m\u001b[0m_should_call_train_batch_hooks\u001b[0m\u001b[0;34m:\u001b[0m\u001b[0;34m\u001b[0m\u001b[0;34m\u001b[0m\u001b[0m\n\u001b[0;32m--> 436\u001b[0;31m       \u001b[0mself\u001b[0m\u001b[0;34m.\u001b[0m\u001b[0m_call_batch_hook\u001b[0m\u001b[0;34m(\u001b[0m\u001b[0mModeKeys\u001b[0m\u001b[0;34m.\u001b[0m\u001b[0mTRAIN\u001b[0m\u001b[0;34m,\u001b[0m \u001b[0;34m'end'\u001b[0m\u001b[0;34m,\u001b[0m \u001b[0mbatch\u001b[0m\u001b[0;34m,\u001b[0m \u001b[0mlogs\u001b[0m\u001b[0;34m=\u001b[0m\u001b[0mlogs\u001b[0m\u001b[0;34m)\u001b[0m\u001b[0;34m\u001b[0m\u001b[0;34m\u001b[0m\u001b[0m\n\u001b[0m\u001b[1;32m    437\u001b[0m \u001b[0;34m\u001b[0m\u001b[0m\n\u001b[1;32m    438\u001b[0m   \u001b[0;32mdef\u001b[0m \u001b[0mon_test_batch_begin\u001b[0m\u001b[0;34m(\u001b[0m\u001b[0mself\u001b[0m\u001b[0;34m,\u001b[0m \u001b[0mbatch\u001b[0m\u001b[0;34m,\u001b[0m \u001b[0mlogs\u001b[0m\u001b[0;34m=\u001b[0m\u001b[0;32mNone\u001b[0m\u001b[0;34m)\u001b[0m\u001b[0;34m:\u001b[0m\u001b[0;34m\u001b[0m\u001b[0;34m\u001b[0m\u001b[0m\n",
            "\u001b[0;32m/usr/local/lib/python3.7/dist-packages/keras/callbacks.py\u001b[0m in \u001b[0;36m_call_batch_hook\u001b[0;34m(self, mode, hook, batch, logs)\u001b[0m\n\u001b[1;32m    293\u001b[0m       \u001b[0mself\u001b[0m\u001b[0;34m.\u001b[0m\u001b[0m_call_batch_begin_hook\u001b[0m\u001b[0;34m(\u001b[0m\u001b[0mmode\u001b[0m\u001b[0;34m,\u001b[0m \u001b[0mbatch\u001b[0m\u001b[0;34m,\u001b[0m \u001b[0mlogs\u001b[0m\u001b[0;34m)\u001b[0m\u001b[0;34m\u001b[0m\u001b[0;34m\u001b[0m\u001b[0m\n\u001b[1;32m    294\u001b[0m     \u001b[0;32melif\u001b[0m \u001b[0mhook\u001b[0m \u001b[0;34m==\u001b[0m \u001b[0;34m'end'\u001b[0m\u001b[0;34m:\u001b[0m\u001b[0;34m\u001b[0m\u001b[0;34m\u001b[0m\u001b[0m\n\u001b[0;32m--> 295\u001b[0;31m       \u001b[0mself\u001b[0m\u001b[0;34m.\u001b[0m\u001b[0m_call_batch_end_hook\u001b[0m\u001b[0;34m(\u001b[0m\u001b[0mmode\u001b[0m\u001b[0;34m,\u001b[0m \u001b[0mbatch\u001b[0m\u001b[0;34m,\u001b[0m \u001b[0mlogs\u001b[0m\u001b[0;34m)\u001b[0m\u001b[0;34m\u001b[0m\u001b[0;34m\u001b[0m\u001b[0m\n\u001b[0m\u001b[1;32m    296\u001b[0m     \u001b[0;32melse\u001b[0m\u001b[0;34m:\u001b[0m\u001b[0;34m\u001b[0m\u001b[0;34m\u001b[0m\u001b[0m\n\u001b[1;32m    297\u001b[0m       raise ValueError(\n",
            "\u001b[0;32m/usr/local/lib/python3.7/dist-packages/keras/callbacks.py\u001b[0m in \u001b[0;36m_call_batch_end_hook\u001b[0;34m(self, mode, batch, logs)\u001b[0m\n\u001b[1;32m    314\u001b[0m       \u001b[0mself\u001b[0m\u001b[0;34m.\u001b[0m\u001b[0m_batch_times\u001b[0m\u001b[0;34m.\u001b[0m\u001b[0mappend\u001b[0m\u001b[0;34m(\u001b[0m\u001b[0mbatch_time\u001b[0m\u001b[0;34m)\u001b[0m\u001b[0;34m\u001b[0m\u001b[0;34m\u001b[0m\u001b[0m\n\u001b[1;32m    315\u001b[0m \u001b[0;34m\u001b[0m\u001b[0m\n\u001b[0;32m--> 316\u001b[0;31m     \u001b[0mself\u001b[0m\u001b[0;34m.\u001b[0m\u001b[0m_call_batch_hook_helper\u001b[0m\u001b[0;34m(\u001b[0m\u001b[0mhook_name\u001b[0m\u001b[0;34m,\u001b[0m \u001b[0mbatch\u001b[0m\u001b[0;34m,\u001b[0m \u001b[0mlogs\u001b[0m\u001b[0;34m)\u001b[0m\u001b[0;34m\u001b[0m\u001b[0;34m\u001b[0m\u001b[0m\n\u001b[0m\u001b[1;32m    317\u001b[0m \u001b[0;34m\u001b[0m\u001b[0m\n\u001b[1;32m    318\u001b[0m     \u001b[0;32mif\u001b[0m \u001b[0mlen\u001b[0m\u001b[0;34m(\u001b[0m\u001b[0mself\u001b[0m\u001b[0;34m.\u001b[0m\u001b[0m_batch_times\u001b[0m\u001b[0;34m)\u001b[0m \u001b[0;34m>=\u001b[0m \u001b[0mself\u001b[0m\u001b[0;34m.\u001b[0m\u001b[0m_num_batches_for_timing_check\u001b[0m\u001b[0;34m:\u001b[0m\u001b[0;34m\u001b[0m\u001b[0;34m\u001b[0m\u001b[0m\n",
            "\u001b[0;32m/usr/local/lib/python3.7/dist-packages/keras/callbacks.py\u001b[0m in \u001b[0;36m_call_batch_hook_helper\u001b[0;34m(self, hook_name, batch, logs)\u001b[0m\n\u001b[1;32m    352\u001b[0m     \u001b[0;32mfor\u001b[0m \u001b[0mcallback\u001b[0m \u001b[0;32min\u001b[0m \u001b[0mself\u001b[0m\u001b[0;34m.\u001b[0m\u001b[0mcallbacks\u001b[0m\u001b[0;34m:\u001b[0m\u001b[0;34m\u001b[0m\u001b[0;34m\u001b[0m\u001b[0m\n\u001b[1;32m    353\u001b[0m       \u001b[0mhook\u001b[0m \u001b[0;34m=\u001b[0m \u001b[0mgetattr\u001b[0m\u001b[0;34m(\u001b[0m\u001b[0mcallback\u001b[0m\u001b[0;34m,\u001b[0m \u001b[0mhook_name\u001b[0m\u001b[0;34m)\u001b[0m\u001b[0;34m\u001b[0m\u001b[0;34m\u001b[0m\u001b[0m\n\u001b[0;32m--> 354\u001b[0;31m       \u001b[0mhook\u001b[0m\u001b[0;34m(\u001b[0m\u001b[0mbatch\u001b[0m\u001b[0;34m,\u001b[0m \u001b[0mlogs\u001b[0m\u001b[0;34m)\u001b[0m\u001b[0;34m\u001b[0m\u001b[0;34m\u001b[0m\u001b[0m\n\u001b[0m\u001b[1;32m    355\u001b[0m \u001b[0;34m\u001b[0m\u001b[0m\n\u001b[1;32m    356\u001b[0m     \u001b[0;32mif\u001b[0m \u001b[0mself\u001b[0m\u001b[0;34m.\u001b[0m\u001b[0m_check_timing\u001b[0m\u001b[0;34m:\u001b[0m\u001b[0;34m\u001b[0m\u001b[0;34m\u001b[0m\u001b[0m\n",
            "\u001b[0;32m/usr/local/lib/python3.7/dist-packages/keras/callbacks.py\u001b[0m in \u001b[0;36mon_train_batch_end\u001b[0;34m(self, batch, logs)\u001b[0m\n\u001b[1;32m   1030\u001b[0m \u001b[0;34m\u001b[0m\u001b[0m\n\u001b[1;32m   1031\u001b[0m   \u001b[0;32mdef\u001b[0m \u001b[0mon_train_batch_end\u001b[0m\u001b[0;34m(\u001b[0m\u001b[0mself\u001b[0m\u001b[0;34m,\u001b[0m \u001b[0mbatch\u001b[0m\u001b[0;34m,\u001b[0m \u001b[0mlogs\u001b[0m\u001b[0;34m=\u001b[0m\u001b[0;32mNone\u001b[0m\u001b[0;34m)\u001b[0m\u001b[0;34m:\u001b[0m\u001b[0;34m\u001b[0m\u001b[0;34m\u001b[0m\u001b[0m\n\u001b[0;32m-> 1032\u001b[0;31m     \u001b[0mself\u001b[0m\u001b[0;34m.\u001b[0m\u001b[0m_batch_update_progbar\u001b[0m\u001b[0;34m(\u001b[0m\u001b[0mbatch\u001b[0m\u001b[0;34m,\u001b[0m \u001b[0mlogs\u001b[0m\u001b[0;34m)\u001b[0m\u001b[0;34m\u001b[0m\u001b[0;34m\u001b[0m\u001b[0m\n\u001b[0m\u001b[1;32m   1033\u001b[0m \u001b[0;34m\u001b[0m\u001b[0m\n\u001b[1;32m   1034\u001b[0m   \u001b[0;32mdef\u001b[0m \u001b[0mon_test_batch_end\u001b[0m\u001b[0;34m(\u001b[0m\u001b[0mself\u001b[0m\u001b[0;34m,\u001b[0m \u001b[0mbatch\u001b[0m\u001b[0;34m,\u001b[0m \u001b[0mlogs\u001b[0m\u001b[0;34m=\u001b[0m\u001b[0;32mNone\u001b[0m\u001b[0;34m)\u001b[0m\u001b[0;34m:\u001b[0m\u001b[0;34m\u001b[0m\u001b[0;34m\u001b[0m\u001b[0m\n",
            "\u001b[0;32m/usr/local/lib/python3.7/dist-packages/keras/callbacks.py\u001b[0m in \u001b[0;36m_batch_update_progbar\u001b[0;34m(self, batch, logs)\u001b[0m\n\u001b[1;32m   1102\u001b[0m     \u001b[0;32mif\u001b[0m \u001b[0mself\u001b[0m\u001b[0;34m.\u001b[0m\u001b[0mverbose\u001b[0m \u001b[0;34m==\u001b[0m \u001b[0;36m1\u001b[0m\u001b[0;34m:\u001b[0m\u001b[0;34m\u001b[0m\u001b[0;34m\u001b[0m\u001b[0m\n\u001b[1;32m   1103\u001b[0m       \u001b[0;31m# Only block async when verbose = 1.\u001b[0m\u001b[0;34m\u001b[0m\u001b[0;34m\u001b[0m\u001b[0;34m\u001b[0m\u001b[0m\n\u001b[0;32m-> 1104\u001b[0;31m       \u001b[0mlogs\u001b[0m \u001b[0;34m=\u001b[0m \u001b[0mtf_utils\u001b[0m\u001b[0;34m.\u001b[0m\u001b[0msync_to_numpy_or_python_type\u001b[0m\u001b[0;34m(\u001b[0m\u001b[0mlogs\u001b[0m\u001b[0;34m)\u001b[0m\u001b[0;34m\u001b[0m\u001b[0;34m\u001b[0m\u001b[0m\n\u001b[0m\u001b[1;32m   1105\u001b[0m       \u001b[0mself\u001b[0m\u001b[0;34m.\u001b[0m\u001b[0mprogbar\u001b[0m\u001b[0;34m.\u001b[0m\u001b[0mupdate\u001b[0m\u001b[0;34m(\u001b[0m\u001b[0mself\u001b[0m\u001b[0;34m.\u001b[0m\u001b[0mseen\u001b[0m\u001b[0;34m,\u001b[0m \u001b[0mlist\u001b[0m\u001b[0;34m(\u001b[0m\u001b[0mlogs\u001b[0m\u001b[0;34m.\u001b[0m\u001b[0mitems\u001b[0m\u001b[0;34m(\u001b[0m\u001b[0;34m)\u001b[0m\u001b[0;34m)\u001b[0m\u001b[0;34m,\u001b[0m \u001b[0mfinalize\u001b[0m\u001b[0;34m=\u001b[0m\u001b[0;32mFalse\u001b[0m\u001b[0;34m)\u001b[0m\u001b[0;34m\u001b[0m\u001b[0;34m\u001b[0m\u001b[0m\n\u001b[1;32m   1106\u001b[0m \u001b[0;34m\u001b[0m\u001b[0m\n",
            "\u001b[0;32m/usr/local/lib/python3.7/dist-packages/keras/utils/tf_utils.py\u001b[0m in \u001b[0;36msync_to_numpy_or_python_type\u001b[0;34m(tensors)\u001b[0m\n\u001b[1;32m    552\u001b[0m     \u001b[0;32mreturn\u001b[0m \u001b[0mt\u001b[0m  \u001b[0;31m# Don't turn ragged or sparse tensors to NumPy.\u001b[0m\u001b[0;34m\u001b[0m\u001b[0;34m\u001b[0m\u001b[0m\n\u001b[1;32m    553\u001b[0m \u001b[0;34m\u001b[0m\u001b[0m\n\u001b[0;32m--> 554\u001b[0;31m   \u001b[0;32mreturn\u001b[0m \u001b[0mtf\u001b[0m\u001b[0;34m.\u001b[0m\u001b[0mnest\u001b[0m\u001b[0;34m.\u001b[0m\u001b[0mmap_structure\u001b[0m\u001b[0;34m(\u001b[0m\u001b[0m_to_single_numpy_or_python_type\u001b[0m\u001b[0;34m,\u001b[0m \u001b[0mtensors\u001b[0m\u001b[0;34m)\u001b[0m\u001b[0;34m\u001b[0m\u001b[0;34m\u001b[0m\u001b[0m\n\u001b[0m\u001b[1;32m    555\u001b[0m \u001b[0;34m\u001b[0m\u001b[0m\n\u001b[1;32m    556\u001b[0m \u001b[0;34m\u001b[0m\u001b[0m\n",
            "\u001b[0;32m/usr/local/lib/python3.7/dist-packages/tensorflow/python/util/nest.py\u001b[0m in \u001b[0;36mmap_structure\u001b[0;34m(func, *structure, **kwargs)\u001b[0m\n\u001b[1;32m    867\u001b[0m \u001b[0;34m\u001b[0m\u001b[0m\n\u001b[1;32m    868\u001b[0m   return pack_sequence_as(\n\u001b[0;32m--> 869\u001b[0;31m       \u001b[0mstructure\u001b[0m\u001b[0;34m[\u001b[0m\u001b[0;36m0\u001b[0m\u001b[0;34m]\u001b[0m\u001b[0;34m,\u001b[0m \u001b[0;34m[\u001b[0m\u001b[0mfunc\u001b[0m\u001b[0;34m(\u001b[0m\u001b[0;34m*\u001b[0m\u001b[0mx\u001b[0m\u001b[0;34m)\u001b[0m \u001b[0;32mfor\u001b[0m \u001b[0mx\u001b[0m \u001b[0;32min\u001b[0m \u001b[0mentries\u001b[0m\u001b[0;34m]\u001b[0m\u001b[0;34m,\u001b[0m\u001b[0;34m\u001b[0m\u001b[0;34m\u001b[0m\u001b[0m\n\u001b[0m\u001b[1;32m    870\u001b[0m       expand_composites=expand_composites)\n\u001b[1;32m    871\u001b[0m \u001b[0;34m\u001b[0m\u001b[0m\n",
            "\u001b[0;32m/usr/local/lib/python3.7/dist-packages/tensorflow/python/util/nest.py\u001b[0m in \u001b[0;36m<listcomp>\u001b[0;34m(.0)\u001b[0m\n\u001b[1;32m    867\u001b[0m \u001b[0;34m\u001b[0m\u001b[0m\n\u001b[1;32m    868\u001b[0m   return pack_sequence_as(\n\u001b[0;32m--> 869\u001b[0;31m       \u001b[0mstructure\u001b[0m\u001b[0;34m[\u001b[0m\u001b[0;36m0\u001b[0m\u001b[0;34m]\u001b[0m\u001b[0;34m,\u001b[0m \u001b[0;34m[\u001b[0m\u001b[0mfunc\u001b[0m\u001b[0;34m(\u001b[0m\u001b[0;34m*\u001b[0m\u001b[0mx\u001b[0m\u001b[0;34m)\u001b[0m \u001b[0;32mfor\u001b[0m \u001b[0mx\u001b[0m \u001b[0;32min\u001b[0m \u001b[0mentries\u001b[0m\u001b[0;34m]\u001b[0m\u001b[0;34m,\u001b[0m\u001b[0;34m\u001b[0m\u001b[0;34m\u001b[0m\u001b[0m\n\u001b[0m\u001b[1;32m    870\u001b[0m       expand_composites=expand_composites)\n\u001b[1;32m    871\u001b[0m \u001b[0;34m\u001b[0m\u001b[0m\n",
            "\u001b[0;32m/usr/local/lib/python3.7/dist-packages/keras/utils/tf_utils.py\u001b[0m in \u001b[0;36m_to_single_numpy_or_python_type\u001b[0;34m(t)\u001b[0m\n\u001b[1;32m    548\u001b[0m   \u001b[0;32mdef\u001b[0m \u001b[0m_to_single_numpy_or_python_type\u001b[0m\u001b[0;34m(\u001b[0m\u001b[0mt\u001b[0m\u001b[0;34m)\u001b[0m\u001b[0;34m:\u001b[0m\u001b[0;34m\u001b[0m\u001b[0;34m\u001b[0m\u001b[0m\n\u001b[1;32m    549\u001b[0m     \u001b[0;32mif\u001b[0m \u001b[0misinstance\u001b[0m\u001b[0;34m(\u001b[0m\u001b[0mt\u001b[0m\u001b[0;34m,\u001b[0m \u001b[0mtf\u001b[0m\u001b[0;34m.\u001b[0m\u001b[0mTensor\u001b[0m\u001b[0;34m)\u001b[0m\u001b[0;34m:\u001b[0m\u001b[0;34m\u001b[0m\u001b[0;34m\u001b[0m\u001b[0m\n\u001b[0;32m--> 550\u001b[0;31m       \u001b[0mx\u001b[0m \u001b[0;34m=\u001b[0m \u001b[0mt\u001b[0m\u001b[0;34m.\u001b[0m\u001b[0mnumpy\u001b[0m\u001b[0;34m(\u001b[0m\u001b[0;34m)\u001b[0m\u001b[0;34m\u001b[0m\u001b[0;34m\u001b[0m\u001b[0m\n\u001b[0m\u001b[1;32m    551\u001b[0m       \u001b[0;32mreturn\u001b[0m \u001b[0mx\u001b[0m\u001b[0;34m.\u001b[0m\u001b[0mitem\u001b[0m\u001b[0;34m(\u001b[0m\u001b[0;34m)\u001b[0m \u001b[0;32mif\u001b[0m \u001b[0mnp\u001b[0m\u001b[0;34m.\u001b[0m\u001b[0mndim\u001b[0m\u001b[0;34m(\u001b[0m\u001b[0mx\u001b[0m\u001b[0;34m)\u001b[0m \u001b[0;34m==\u001b[0m \u001b[0;36m0\u001b[0m \u001b[0;32melse\u001b[0m \u001b[0mx\u001b[0m\u001b[0;34m\u001b[0m\u001b[0;34m\u001b[0m\u001b[0m\n\u001b[1;32m    552\u001b[0m     \u001b[0;32mreturn\u001b[0m \u001b[0mt\u001b[0m  \u001b[0;31m# Don't turn ragged or sparse tensors to NumPy.\u001b[0m\u001b[0;34m\u001b[0m\u001b[0;34m\u001b[0m\u001b[0m\n",
            "\u001b[0;32m/usr/local/lib/python3.7/dist-packages/tensorflow/python/framework/ops.py\u001b[0m in \u001b[0;36mnumpy\u001b[0;34m(self)\u001b[0m\n\u001b[1;32m   1147\u001b[0m     \"\"\"\n\u001b[1;32m   1148\u001b[0m     \u001b[0;31m# TODO(slebedev): Consider avoiding a copy for non-CPU or remote tensors.\u001b[0m\u001b[0;34m\u001b[0m\u001b[0;34m\u001b[0m\u001b[0;34m\u001b[0m\u001b[0m\n\u001b[0;32m-> 1149\u001b[0;31m     \u001b[0mmaybe_arr\u001b[0m \u001b[0;34m=\u001b[0m \u001b[0mself\u001b[0m\u001b[0;34m.\u001b[0m\u001b[0m_numpy\u001b[0m\u001b[0;34m(\u001b[0m\u001b[0;34m)\u001b[0m  \u001b[0;31m# pylint: disable=protected-access\u001b[0m\u001b[0;34m\u001b[0m\u001b[0;34m\u001b[0m\u001b[0m\n\u001b[0m\u001b[1;32m   1150\u001b[0m     \u001b[0;32mreturn\u001b[0m \u001b[0mmaybe_arr\u001b[0m\u001b[0;34m.\u001b[0m\u001b[0mcopy\u001b[0m\u001b[0;34m(\u001b[0m\u001b[0;34m)\u001b[0m \u001b[0;32mif\u001b[0m \u001b[0misinstance\u001b[0m\u001b[0;34m(\u001b[0m\u001b[0mmaybe_arr\u001b[0m\u001b[0;34m,\u001b[0m \u001b[0mnp\u001b[0m\u001b[0;34m.\u001b[0m\u001b[0mndarray\u001b[0m\u001b[0;34m)\u001b[0m \u001b[0;32melse\u001b[0m \u001b[0mmaybe_arr\u001b[0m\u001b[0;34m\u001b[0m\u001b[0;34m\u001b[0m\u001b[0m\n\u001b[1;32m   1151\u001b[0m \u001b[0;34m\u001b[0m\u001b[0m\n",
            "\u001b[0;32m/usr/local/lib/python3.7/dist-packages/tensorflow/python/framework/ops.py\u001b[0m in \u001b[0;36m_numpy\u001b[0;34m(self)\u001b[0m\n\u001b[1;32m   1113\u001b[0m   \u001b[0;32mdef\u001b[0m \u001b[0m_numpy\u001b[0m\u001b[0;34m(\u001b[0m\u001b[0mself\u001b[0m\u001b[0;34m)\u001b[0m\u001b[0;34m:\u001b[0m\u001b[0;34m\u001b[0m\u001b[0;34m\u001b[0m\u001b[0m\n\u001b[1;32m   1114\u001b[0m     \u001b[0;32mtry\u001b[0m\u001b[0;34m:\u001b[0m\u001b[0;34m\u001b[0m\u001b[0;34m\u001b[0m\u001b[0m\n\u001b[0;32m-> 1115\u001b[0;31m       \u001b[0;32mreturn\u001b[0m \u001b[0mself\u001b[0m\u001b[0;34m.\u001b[0m\u001b[0m_numpy_internal\u001b[0m\u001b[0;34m(\u001b[0m\u001b[0;34m)\u001b[0m\u001b[0;34m\u001b[0m\u001b[0;34m\u001b[0m\u001b[0m\n\u001b[0m\u001b[1;32m   1116\u001b[0m     \u001b[0;32mexcept\u001b[0m \u001b[0mcore\u001b[0m\u001b[0;34m.\u001b[0m\u001b[0m_NotOkStatusException\u001b[0m \u001b[0;32mas\u001b[0m \u001b[0me\u001b[0m\u001b[0;34m:\u001b[0m  \u001b[0;31m# pylint: disable=protected-access\u001b[0m\u001b[0;34m\u001b[0m\u001b[0;34m\u001b[0m\u001b[0m\n\u001b[1;32m   1117\u001b[0m       \u001b[0;32mraise\u001b[0m \u001b[0mcore\u001b[0m\u001b[0;34m.\u001b[0m\u001b[0m_status_to_exception\u001b[0m\u001b[0;34m(\u001b[0m\u001b[0me\u001b[0m\u001b[0;34m)\u001b[0m \u001b[0;32mfrom\u001b[0m \u001b[0;32mNone\u001b[0m  \u001b[0;31m# pylint: disable=protected-access\u001b[0m\u001b[0;34m\u001b[0m\u001b[0;34m\u001b[0m\u001b[0m\n",
            "\u001b[0;31mKeyboardInterrupt\u001b[0m: "
          ]
        }
      ],
      "source": [
        "\n",
        "# define model\n",
        "model = sm.Unet(BACKBONE, encoder_weights='imagenet', input_shape=(256, 256, 3))\n",
        "\n",
        "# adding a l2 kernel regularizer\n",
        "sm.utils.set_regularization(model, kernel_regularizer=keras.regularizers.l2(1))\n",
        "model.compile(\n",
        "    'Adam',\n",
        "    loss=sm.losses.bce_jaccard_loss,\n",
        "    metrics=[sm.metrics.iou_score, sm.metrics.FScore(),'accuracy'],\n",
        ")\n",
        "\n",
        "# saving the best model\n",
        "callbacks = [keras.callbacks.ModelCheckpoint(\"/content/drive/MyDrive/Models/m5.h5\", save_best_only=True)]\n",
        "\n",
        "# training\n",
        "history = model.fit(x=x_train, y=y_train,\n",
        "   epochs=50, batch_size=32,\n",
        "   callbacks=callbacks,\n",
        "   validation_data=(x_val,y_val)\n",
        ")\n"
      ]
    },
    {
      "cell_type": "markdown",
      "metadata": {
        "id": "q10Lk5ZfifD2"
      },
      "source": [
        "### Testing and predicting"
      ]
    },
    {
      "cell_type": "code",
      "execution_count": null,
      "metadata": {
        "id": "df0-a7QM_YoY"
      },
      "outputs": [],
      "source": [
        "x_val = extract_data('/content/images/')"
      ]
    },
    {
      "cell_type": "code",
      "execution_count": null,
      "metadata": {
        "id": "vglpJW8vWiDC"
      },
      "outputs": [],
      "source": [
        "from keras.models import load_model\n",
        "\n",
        "# loading the best model\n",
        "model = load_model('/content/drive/MyDrive/Models/m5.h5', custom_objects\n",
        "                   = {'binary_crossentropy_plus_jaccard_loss':sm.losses.bce_jaccard_loss, \n",
        "                      'iou_score': sm.metrics.iou_score, 'f1-score': sm.metrics.FScore()})\n",
        "\n",
        "#from tensorflow.keras.utils import plot_model\n",
        "#plot_model(model, to_file='model.png')\n",
        "\n",
        "#test_images = extract_data_test('/content/testing/')\n",
        "\n"
      ]
    },
    {
      "cell_type": "code",
      "execution_count": null,
      "metadata": {
        "colab": {
          "base_uri": "https://localhost:8080/",
          "height": 624
        },
        "id": "B4vavqPn2g6m",
        "outputId": "0e4c9bc3-b7b4-4178-a19f-2e4ee09fe568"
      },
      "outputs": [
        {
          "ename": "ValueError",
          "evalue": "ignored",
          "output_type": "error",
          "traceback": [
            "\u001b[0;31m---------------------------------------------------------------------------\u001b[0m",
            "\u001b[0;31mValueError\u001b[0m                                Traceback (most recent call last)",
            "\u001b[0;32m<ipython-input-11-4d7ab00ecea0>\u001b[0m in \u001b[0;36m<module>\u001b[0;34m()\u001b[0m\n\u001b[1;32m      1\u001b[0m \u001b[0;31m# predicting on the validation set\u001b[0m\u001b[0;34m\u001b[0m\u001b[0;34m\u001b[0m\u001b[0;34m\u001b[0m\u001b[0m\n\u001b[0;32m----> 2\u001b[0;31m \u001b[0my_pred\u001b[0m \u001b[0;34m=\u001b[0m \u001b[0mmodel\u001b[0m\u001b[0;34m.\u001b[0m\u001b[0mpredict\u001b[0m\u001b[0;34m(\u001b[0m\u001b[0;34m(\u001b[0m\u001b[0mx_val\u001b[0m\u001b[0;34m)\u001b[0m\u001b[0;34m)\u001b[0m\u001b[0;34m\u001b[0m\u001b[0;34m\u001b[0m\u001b[0m\n\u001b[0m\u001b[1;32m      3\u001b[0m \u001b[0mpatch_size\u001b[0m \u001b[0;34m=\u001b[0m \u001b[0;36m16\u001b[0m\u001b[0;34m\u001b[0m\u001b[0;34m\u001b[0m\u001b[0m\n",
            "\u001b[0;32m/usr/local/lib/python3.7/dist-packages/keras/utils/traceback_utils.py\u001b[0m in \u001b[0;36merror_handler\u001b[0;34m(*args, **kwargs)\u001b[0m\n\u001b[1;32m     65\u001b[0m     \u001b[0;32mexcept\u001b[0m \u001b[0mException\u001b[0m \u001b[0;32mas\u001b[0m \u001b[0me\u001b[0m\u001b[0;34m:\u001b[0m  \u001b[0;31m# pylint: disable=broad-except\u001b[0m\u001b[0;34m\u001b[0m\u001b[0;34m\u001b[0m\u001b[0m\n\u001b[1;32m     66\u001b[0m       \u001b[0mfiltered_tb\u001b[0m \u001b[0;34m=\u001b[0m \u001b[0m_process_traceback_frames\u001b[0m\u001b[0;34m(\u001b[0m\u001b[0me\u001b[0m\u001b[0;34m.\u001b[0m\u001b[0m__traceback__\u001b[0m\u001b[0;34m)\u001b[0m\u001b[0;34m\u001b[0m\u001b[0;34m\u001b[0m\u001b[0m\n\u001b[0;32m---> 67\u001b[0;31m       \u001b[0;32mraise\u001b[0m \u001b[0me\u001b[0m\u001b[0;34m.\u001b[0m\u001b[0mwith_traceback\u001b[0m\u001b[0;34m(\u001b[0m\u001b[0mfiltered_tb\u001b[0m\u001b[0;34m)\u001b[0m \u001b[0;32mfrom\u001b[0m \u001b[0;32mNone\u001b[0m\u001b[0;34m\u001b[0m\u001b[0;34m\u001b[0m\u001b[0m\n\u001b[0m\u001b[1;32m     68\u001b[0m     \u001b[0;32mfinally\u001b[0m\u001b[0;34m:\u001b[0m\u001b[0;34m\u001b[0m\u001b[0;34m\u001b[0m\u001b[0m\n\u001b[1;32m     69\u001b[0m       \u001b[0;32mdel\u001b[0m \u001b[0mfiltered_tb\u001b[0m\u001b[0;34m\u001b[0m\u001b[0;34m\u001b[0m\u001b[0m\n",
            "\u001b[0;32m/usr/local/lib/python3.7/dist-packages/tensorflow/python/framework/func_graph.py\u001b[0m in \u001b[0;36mautograph_handler\u001b[0;34m(*args, **kwargs)\u001b[0m\n\u001b[1;32m   1127\u001b[0m           \u001b[0;32mexcept\u001b[0m \u001b[0mException\u001b[0m \u001b[0;32mas\u001b[0m \u001b[0me\u001b[0m\u001b[0;34m:\u001b[0m  \u001b[0;31m# pylint:disable=broad-except\u001b[0m\u001b[0;34m\u001b[0m\u001b[0;34m\u001b[0m\u001b[0m\n\u001b[1;32m   1128\u001b[0m             \u001b[0;32mif\u001b[0m \u001b[0mhasattr\u001b[0m\u001b[0;34m(\u001b[0m\u001b[0me\u001b[0m\u001b[0;34m,\u001b[0m \u001b[0;34m\"ag_error_metadata\"\u001b[0m\u001b[0;34m)\u001b[0m\u001b[0;34m:\u001b[0m\u001b[0;34m\u001b[0m\u001b[0;34m\u001b[0m\u001b[0m\n\u001b[0;32m-> 1129\u001b[0;31m               \u001b[0;32mraise\u001b[0m \u001b[0me\u001b[0m\u001b[0;34m.\u001b[0m\u001b[0mag_error_metadata\u001b[0m\u001b[0;34m.\u001b[0m\u001b[0mto_exception\u001b[0m\u001b[0;34m(\u001b[0m\u001b[0me\u001b[0m\u001b[0;34m)\u001b[0m\u001b[0;34m\u001b[0m\u001b[0;34m\u001b[0m\u001b[0m\n\u001b[0m\u001b[1;32m   1130\u001b[0m             \u001b[0;32melse\u001b[0m\u001b[0;34m:\u001b[0m\u001b[0;34m\u001b[0m\u001b[0;34m\u001b[0m\u001b[0m\n\u001b[1;32m   1131\u001b[0m               \u001b[0;32mraise\u001b[0m\u001b[0;34m\u001b[0m\u001b[0;34m\u001b[0m\u001b[0m\n",
            "\u001b[0;31mValueError\u001b[0m: in user code:\n\n    File \"/usr/local/lib/python3.7/dist-packages/keras/engine/training.py\", line 1621, in predict_function  *\n        return step_function(self, iterator)\n    File \"/usr/local/lib/python3.7/dist-packages/keras/engine/training.py\", line 1611, in step_function  **\n        outputs = model.distribute_strategy.run(run_step, args=(data,))\n    File \"/usr/local/lib/python3.7/dist-packages/keras/engine/training.py\", line 1604, in run_step  **\n        outputs = model.predict_step(data)\n    File \"/usr/local/lib/python3.7/dist-packages/keras/engine/training.py\", line 1572, in predict_step\n        return self(x, training=False)\n    File \"/usr/local/lib/python3.7/dist-packages/keras/utils/traceback_utils.py\", line 67, in error_handler\n        raise e.with_traceback(filtered_tb) from None\n    File \"/usr/local/lib/python3.7/dist-packages/keras/engine/input_spec.py\", line 263, in assert_input_compatibility\n        raise ValueError(f'Input {input_index} of layer \"{layer_name}\" is '\n\n    ValueError: Input 0 of layer \"model_1\" is incompatible with the layer: expected shape=(None, 256, 256, 3), found shape=(None, 400, 400, 3)\n"
          ]
        }
      ],
      "source": [
        "# predicting on the validation set\n",
        "y_pred = model.predict((x_val))\n",
        "patch_size = 16"
      ]
    },
    {
      "cell_type": "markdown",
      "metadata": {
        "id": "bGJUYIsIiqhM"
      },
      "source": [
        "Checking which threshold for converting patch to foregroud is best on the val set"
      ]
    },
    {
      "cell_type": "code",
      "execution_count": null,
      "metadata": {
        "colab": {
          "base_uri": "https://localhost:8080/"
        },
        "id": "t7jzgduJ5kWA",
        "outputId": "906af63c-af15-457c-96eb-e564d04aa0a5"
      },
      "outputs": [
        {
          "name": "stdout",
          "output_type": "stream",
          "text": [
            "0.01 0.9865501650227979 0.9919002757352942\n",
            "0.02 0.9870463297934415 0.9923483455882353\n",
            "0.03 0.9868880257113001 0.9923598345588235\n",
            "0.04 0.9871981785864073 0.9926355698529412\n",
            "0.05 0.9864204017297822 0.9922794117647059\n",
            "0.06 0.9871870849085522 0.9927964154411765\n",
            "0.07 0.986010951544581 0.9922219669117647\n",
            "0.08 0.9851793094810671 0.9918428308823529\n",
            "0.09 0.985713081591369 0.9922104779411764\n"
          ]
        }
      ],
      "source": [
        "from sklearn.metrics import f1_score, accuracy_score\n",
        "def patch_to_label(patch, thr):\n",
        "    df = np.mean(patch)\n",
        "    if df > thr:\n",
        "        return 1\n",
        "    else:\n",
        "        return 0\n",
        "thresholds = [0.01*i for i in range(1, 10)]\n",
        "for thr in thresholds:\n",
        "  highest=0\n",
        "  y_pred_flattened = []\n",
        "  for im in y_pred:\n",
        "    for j in range(0, im.shape[1], patch_size):\n",
        "          for i in range(0, im.shape[0], patch_size):\n",
        "              patch = im[i:i + patch_size, j:j + patch_size]\n",
        "              label = patch_to_label(patch, thr)\n",
        "              y_pred_flattened.append(label)\n",
        "  y_val_flattened = []\n",
        "  for im in y_val:\n",
        "    for j in range(0, im.shape[1], patch_size):\n",
        "          for i in range(0, im.shape[0], patch_size):\n",
        "              patch = im[i:i + patch_size, j:j + patch_size]\n",
        "              label = patch_to_label(patch, thr)\n",
        "              y_val_flattened.append(label)\n",
        "\n",
        "  y_pred_flattened = np.array(y_pred_flattened)\n",
        "  f1 = f1_score(y_val_flattened, y_pred_flattened)\n",
        "  if f1>highest:\n",
        "    foreground_threshold=thr\n",
        "  acc = accuracy_score(y_val_flattened, y_pred_flattened)\n",
        "  print(thr, f1, acc)"
      ]
    },
    {
      "cell_type": "markdown",
      "metadata": {
        "id": "RZqz4-g_o96Y"
      },
      "source": [
        "#Generating predictions"
      ]
    },
    {
      "cell_type": "code",
      "execution_count": null,
      "metadata": {
        "id": "RJrsJC0_LaXs"
      },
      "outputs": [],
      "source": [
        "BACKBONE = 'resnet34'\n",
        "preprocess_input = sm.get_preprocessing(BACKBONE)\n",
        "#test_images = extract_data_test('/content/testing/')\n",
        "\n"
      ]
    },
    {
      "cell_type": "code",
      "execution_count": null,
      "metadata": {
        "id": "E4z50R46iDaK"
      },
      "outputs": [],
      "source": [
        "# predicting on 256x256 crops of the test images\n",
        "imgs = preprocess_input(x_val)\n",
        "resultat = []\n",
        "for img in imgs:\n",
        "    img1 = img[0:256,0:256,:]\n",
        "    img2 = img[0:256,144:,:]\n",
        "    img4 = img[144:,0:256,:]\n",
        "    img5 = img[144:,144:,:]\n",
        "    pred_1 = model.predict(np.expand_dims(img1, axis=0))[0]\n",
        "    pred_2 = model.predict(np.expand_dims(img2, axis=0))[0]\n",
        "    pred_4 = model.predict(np.expand_dims(img4, axis=0))[0]\n",
        "    pred_5 = model.predict(np.expand_dims(img5, axis=0))[0]\n",
        "\n",
        "    pred_2 = pred_2[:,112:,:]\n",
        "    pred_4 = pred_4[112:,:,:]\n",
        "    pred_5 = pred_5[112:,112:,:]\n",
        "    a = np.hstack([pred_1,pred_2])\n",
        "    b = np.hstack([pred_4,pred_5])\n",
        "    d = np.vstack([a,b])\n",
        "    resultat.append(d)"
      ]
    },
    {
      "cell_type": "code",
      "execution_count": null,
      "metadata": {
        "colab": {
          "base_uri": "https://localhost:8080/"
        },
        "id": "A_ts_Uz7Auqd",
        "outputId": "87ec6fbb-e9bb-4aca-9789-6e8b0ed105aa"
      },
      "outputs": [
        {
          "data": {
            "text/plain": [
              "(400, 400, 1)"
            ]
          },
          "execution_count": 16,
          "metadata": {},
          "output_type": "execute_result"
        }
      ],
      "source": [
        "d.shape"
      ]
    },
    {
      "cell_type": "code",
      "execution_count": null,
      "metadata": {
        "id": "OkPdNCRrNXlZ"
      },
      "outputs": [],
      "source": [
        "def img_float_to_uint8(img):\n",
        "    '''converts image array with floats to uint8\n",
        "    \n",
        "    parameters\n",
        "    -----------\n",
        "    img: ndarray\n",
        "        image array\n",
        "    \n",
        "    returns\n",
        "    -------\n",
        "    rimg: ndarray\n",
        "        converted array'''\n",
        "\n",
        "    rimg = img - np.min(img)\n",
        "    rimg = (rimg / np.max(rimg) * 255).round().astype(np.uint8)\n",
        "    return rimg\n",
        "\n",
        "# generating the prediction masks testset\n",
        "for i in range(len(resultat)):\n",
        "  img = resultat[i]\n",
        "  w = img.shape[0]\n",
        "  h = img.shape[1]\n",
        "  gt_img_3c = np.zeros((w, h, 3), dtype=np.uint8)\n",
        "  gt_img8 = img_float_to_uint8(img)          \n",
        "  gt_img_3c[:, :, 0] = gt_img8[:,:,0]\n",
        "  gt_img_3c[:, :, 1] = gt_img8[:,:,0]\n",
        "  gt_img_3c[:, :, 2] = gt_img8[:,:,0]\n",
        "\n",
        "  cv2.imwrite('/content/drive/MyDrive/Pred/test%d.png'%(i+1),gt_img_3c)\n"
      ]
    },
    {
      "cell_type": "code",
      "execution_count": null,
      "metadata": {
        "id": "RAImGA_Kj2G8"
      },
      "outputs": [],
      "source": [
        "# saving mask predictions on the validation set\n",
        "for i in range(len(y_pred)):\n",
        "  img = y_pred[i]\n",
        "  w = img.shape[0]\n",
        "  h = img.shape[1]\n",
        "  gt_img_3c = np.zeros((w, h, 3), dtype=np.uint8)\n",
        "  gt_img8 = img_float_to_uint8(img)          \n",
        "  gt_img_3c[:, :, 0] = gt_img8[:,:,0]\n",
        "  gt_img_3c[:, :, 1] = gt_img8[:,:,0]\n",
        "  gt_img_3c[:, :, 2] = gt_img8[:,:,0]\n",
        "\n",
        "  cv2.imwrite('/content/drive/MyDrive/masks/test%d.png'%(i+1),gt_img_3c)"
      ]
    },
    {
      "cell_type": "code",
      "execution_count": null,
      "metadata": {
        "colab": {
          "base_uri": "https://localhost:8080/"
        },
        "id": "gC_0rpUWmuqw",
        "outputId": "6b89ff4f-4d97-4228-8f33-8e2f81770a5a"
      },
      "outputs": [
        {
          "name": "stdout",
          "output_type": "stream",
          "text": [
            "/content/drive/MyDrive/Pred/test1.png\n",
            "/content/drive/MyDrive/Pred/test2.png\n",
            "/content/drive/MyDrive/Pred/test3.png\n",
            "/content/drive/MyDrive/Pred/test4.png\n",
            "/content/drive/MyDrive/Pred/test5.png\n",
            "/content/drive/MyDrive/Pred/test6.png\n",
            "/content/drive/MyDrive/Pred/test7.png\n",
            "/content/drive/MyDrive/Pred/test8.png\n",
            "/content/drive/MyDrive/Pred/test9.png\n",
            "/content/drive/MyDrive/Pred/test10.png\n",
            "/content/drive/MyDrive/Pred/test11.png\n",
            "/content/drive/MyDrive/Pred/test12.png\n",
            "/content/drive/MyDrive/Pred/test13.png\n",
            "/content/drive/MyDrive/Pred/test14.png\n",
            "/content/drive/MyDrive/Pred/test15.png\n",
            "/content/drive/MyDrive/Pred/test16.png\n",
            "/content/drive/MyDrive/Pred/test17.png\n",
            "/content/drive/MyDrive/Pred/test18.png\n",
            "/content/drive/MyDrive/Pred/test19.png\n",
            "/content/drive/MyDrive/Pred/test20.png\n",
            "/content/drive/MyDrive/Pred/test21.png\n",
            "/content/drive/MyDrive/Pred/test22.png\n",
            "/content/drive/MyDrive/Pred/test23.png\n",
            "/content/drive/MyDrive/Pred/test24.png\n",
            "/content/drive/MyDrive/Pred/test25.png\n",
            "/content/drive/MyDrive/Pred/test26.png\n",
            "/content/drive/MyDrive/Pred/test27.png\n",
            "/content/drive/MyDrive/Pred/test28.png\n",
            "/content/drive/MyDrive/Pred/test29.png\n",
            "/content/drive/MyDrive/Pred/test30.png\n",
            "/content/drive/MyDrive/Pred/test31.png\n",
            "/content/drive/MyDrive/Pred/test32.png\n",
            "/content/drive/MyDrive/Pred/test33.png\n",
            "/content/drive/MyDrive/Pred/test34.png\n",
            "/content/drive/MyDrive/Pred/test35.png\n",
            "/content/drive/MyDrive/Pred/test36.png\n",
            "/content/drive/MyDrive/Pred/test37.png\n",
            "/content/drive/MyDrive/Pred/test38.png\n",
            "/content/drive/MyDrive/Pred/test39.png\n",
            "/content/drive/MyDrive/Pred/test40.png\n",
            "/content/drive/MyDrive/Pred/test41.png\n",
            "/content/drive/MyDrive/Pred/test42.png\n",
            "/content/drive/MyDrive/Pred/test43.png\n",
            "/content/drive/MyDrive/Pred/test44.png\n",
            "/content/drive/MyDrive/Pred/test45.png\n",
            "/content/drive/MyDrive/Pred/test46.png\n",
            "/content/drive/MyDrive/Pred/test47.png\n",
            "/content/drive/MyDrive/Pred/test48.png\n",
            "/content/drive/MyDrive/Pred/test49.png\n",
            "/content/drive/MyDrive/Pred/test50.png\n"
          ]
        }
      ],
      "source": [
        "#!/usr/bin/env python3\n",
        "\n",
        "import os\n",
        "import numpy as np\n",
        "import matplotlib.image as mpimg\n",
        "import re\n",
        "\n",
        "foreground_threshold = 0.04 # percentage of pixels > 1 required to assign a foreground label to a patch\n",
        "\n",
        "# assign a label to a patch\n",
        "def patch_to_label(patch):\n",
        "    df = np.mean(patch)\n",
        "    if df > foreground_threshold:\n",
        "        return 1\n",
        "    else:\n",
        "        return 0\n",
        "\n",
        "\n",
        "def mask_to_submission_strings(image_filename):\n",
        "    \"\"\"Reads a single image and outputs the strings that should go into the submission file\"\"\"\n",
        "    img_number = int(re.search(r\"\\d+\", image_filename).group(0))\n",
        "    im = mpimg.imread(image_filename)\n",
        "    patch_size = 16\n",
        "    for j in range(0, im.shape[1], patch_size):\n",
        "        for i in range(0, im.shape[0], patch_size):\n",
        "            patch = im[i:i + patch_size, j:j + patch_size]\n",
        "            label = patch_to_label(patch)\n",
        "            yield(\"{:03d}_{}_{},{}\".format(img_number, j, i, label))\n",
        "\n",
        "\n",
        "def masks_to_submission(submission_filename, *image_filenames):\n",
        "    \"\"\"Converts images into a submission file\"\"\"\n",
        "    with open(submission_filename, 'w') as f:\n",
        "        f.write('id,prediction\\n')\n",
        "        for fn in image_filenames[0:]:\n",
        "            f.writelines('{}\\n'.format(s) for s in mask_to_submission_strings(fn))\n",
        "\n",
        "\n",
        "# generating the prediction file for the test set\n",
        "submission_filename = '/content/drive/MyDrive/Pred/m5.csv'\n",
        "image_filenames = []\n",
        "for i in range(1, 51):\n",
        "    image_filename = '/content/drive/MyDrive/Pred/test%d.png' % i\n",
        "    print(image_filename)\n",
        "    image_filenames.append(image_filename)\n",
        "masks_to_submission(submission_filename, *image_filenames)\n"
      ]
    },
    {
      "cell_type": "code",
      "execution_count": null,
      "metadata": {
        "colab": {
          "base_uri": "https://localhost:8080/"
        },
        "id": "0VdZ8-tkHX-n",
        "outputId": "76440f47-7bef-422e-f7c3-d649a72d9c80"
      },
      "outputs": [
        {
          "name": "stdout",
          "output_type": "stream",
          "text": [
            "/content/drive/MyDrive/masks/test1.png\n",
            "/content/drive/MyDrive/masks/test2.png\n",
            "/content/drive/MyDrive/masks/test3.png\n",
            "/content/drive/MyDrive/masks/test4.png\n",
            "/content/drive/MyDrive/masks/test5.png\n",
            "/content/drive/MyDrive/masks/test6.png\n",
            "/content/drive/MyDrive/masks/test7.png\n",
            "/content/drive/MyDrive/masks/test8.png\n",
            "/content/drive/MyDrive/masks/test9.png\n",
            "/content/drive/MyDrive/masks/test10.png\n",
            "/content/drive/MyDrive/masks/test11.png\n",
            "/content/drive/MyDrive/masks/test12.png\n",
            "/content/drive/MyDrive/masks/test13.png\n",
            "/content/drive/MyDrive/masks/test14.png\n",
            "/content/drive/MyDrive/masks/test15.png\n",
            "/content/drive/MyDrive/masks/test16.png\n",
            "/content/drive/MyDrive/masks/test17.png\n",
            "/content/drive/MyDrive/masks/test18.png\n",
            "/content/drive/MyDrive/masks/test19.png\n",
            "/content/drive/MyDrive/masks/test20.png\n",
            "/content/drive/MyDrive/masks/test21.png\n",
            "/content/drive/MyDrive/masks/test22.png\n",
            "/content/drive/MyDrive/masks/test23.png\n",
            "/content/drive/MyDrive/masks/test24.png\n",
            "/content/drive/MyDrive/masks/test25.png\n",
            "/content/drive/MyDrive/masks/test26.png\n",
            "/content/drive/MyDrive/masks/test27.png\n",
            "/content/drive/MyDrive/masks/test28.png\n",
            "/content/drive/MyDrive/masks/test29.png\n",
            "/content/drive/MyDrive/masks/test30.png\n",
            "/content/drive/MyDrive/masks/test31.png\n",
            "/content/drive/MyDrive/masks/test32.png\n",
            "/content/drive/MyDrive/masks/test33.png\n",
            "/content/drive/MyDrive/masks/test34.png\n",
            "/content/drive/MyDrive/masks/test35.png\n",
            "/content/drive/MyDrive/masks/test36.png\n",
            "/content/drive/MyDrive/masks/test37.png\n",
            "/content/drive/MyDrive/masks/test38.png\n",
            "/content/drive/MyDrive/masks/test39.png\n",
            "/content/drive/MyDrive/masks/test40.png\n",
            "/content/drive/MyDrive/masks/test41.png\n",
            "/content/drive/MyDrive/masks/test42.png\n",
            "/content/drive/MyDrive/masks/test43.png\n",
            "/content/drive/MyDrive/masks/test44.png\n",
            "/content/drive/MyDrive/masks/test45.png\n",
            "/content/drive/MyDrive/masks/test46.png\n",
            "/content/drive/MyDrive/masks/test47.png\n",
            "/content/drive/MyDrive/masks/test48.png\n",
            "/content/drive/MyDrive/masks/test49.png\n",
            "/content/drive/MyDrive/masks/test50.png\n",
            "/content/drive/MyDrive/masks/test51.png\n",
            "/content/drive/MyDrive/masks/test52.png\n",
            "/content/drive/MyDrive/masks/test53.png\n",
            "/content/drive/MyDrive/masks/test54.png\n",
            "/content/drive/MyDrive/masks/test55.png\n",
            "/content/drive/MyDrive/masks/test56.png\n",
            "/content/drive/MyDrive/masks/test57.png\n",
            "/content/drive/MyDrive/masks/test58.png\n",
            "/content/drive/MyDrive/masks/test59.png\n",
            "/content/drive/MyDrive/masks/test60.png\n",
            "/content/drive/MyDrive/masks/test61.png\n",
            "/content/drive/MyDrive/masks/test62.png\n",
            "/content/drive/MyDrive/masks/test63.png\n",
            "/content/drive/MyDrive/masks/test64.png\n",
            "/content/drive/MyDrive/masks/test65.png\n",
            "/content/drive/MyDrive/masks/test66.png\n",
            "/content/drive/MyDrive/masks/test67.png\n",
            "/content/drive/MyDrive/masks/test68.png\n",
            "/content/drive/MyDrive/masks/test69.png\n",
            "/content/drive/MyDrive/masks/test70.png\n",
            "/content/drive/MyDrive/masks/test71.png\n",
            "/content/drive/MyDrive/masks/test72.png\n",
            "/content/drive/MyDrive/masks/test73.png\n",
            "/content/drive/MyDrive/masks/test74.png\n",
            "/content/drive/MyDrive/masks/test75.png\n",
            "/content/drive/MyDrive/masks/test76.png\n",
            "/content/drive/MyDrive/masks/test77.png\n",
            "/content/drive/MyDrive/masks/test78.png\n",
            "/content/drive/MyDrive/masks/test79.png\n",
            "/content/drive/MyDrive/masks/test80.png\n",
            "/content/drive/MyDrive/masks/test81.png\n",
            "/content/drive/MyDrive/masks/test82.png\n",
            "/content/drive/MyDrive/masks/test83.png\n",
            "/content/drive/MyDrive/masks/test84.png\n",
            "/content/drive/MyDrive/masks/test85.png\n",
            "/content/drive/MyDrive/masks/test86.png\n",
            "/content/drive/MyDrive/masks/test87.png\n",
            "/content/drive/MyDrive/masks/test88.png\n",
            "/content/drive/MyDrive/masks/test89.png\n",
            "/content/drive/MyDrive/masks/test90.png\n",
            "/content/drive/MyDrive/masks/test91.png\n",
            "/content/drive/MyDrive/masks/test92.png\n",
            "/content/drive/MyDrive/masks/test93.png\n",
            "/content/drive/MyDrive/masks/test94.png\n",
            "/content/drive/MyDrive/masks/test95.png\n",
            "/content/drive/MyDrive/masks/test96.png\n",
            "/content/drive/MyDrive/masks/test97.png\n",
            "/content/drive/MyDrive/masks/test98.png\n",
            "/content/drive/MyDrive/masks/test99.png\n",
            "/content/drive/MyDrive/masks/test100.png\n",
            "/content/drive/MyDrive/masks/test101.png\n",
            "/content/drive/MyDrive/masks/test102.png\n",
            "/content/drive/MyDrive/masks/test103.png\n",
            "/content/drive/MyDrive/masks/test104.png\n",
            "/content/drive/MyDrive/masks/test105.png\n",
            "/content/drive/MyDrive/masks/test106.png\n",
            "/content/drive/MyDrive/masks/test107.png\n",
            "/content/drive/MyDrive/masks/test108.png\n",
            "/content/drive/MyDrive/masks/test109.png\n",
            "/content/drive/MyDrive/masks/test110.png\n",
            "/content/drive/MyDrive/masks/test111.png\n",
            "/content/drive/MyDrive/masks/test112.png\n",
            "/content/drive/MyDrive/masks/test113.png\n",
            "/content/drive/MyDrive/masks/test114.png\n",
            "/content/drive/MyDrive/masks/test115.png\n",
            "/content/drive/MyDrive/masks/test116.png\n",
            "/content/drive/MyDrive/masks/test117.png\n",
            "/content/drive/MyDrive/masks/test118.png\n",
            "/content/drive/MyDrive/masks/test119.png\n",
            "/content/drive/MyDrive/masks/test120.png\n",
            "/content/drive/MyDrive/masks/test121.png\n",
            "/content/drive/MyDrive/masks/test122.png\n",
            "/content/drive/MyDrive/masks/test123.png\n",
            "/content/drive/MyDrive/masks/test124.png\n",
            "/content/drive/MyDrive/masks/test125.png\n",
            "/content/drive/MyDrive/masks/test126.png\n",
            "/content/drive/MyDrive/masks/test127.png\n",
            "/content/drive/MyDrive/masks/test128.png\n",
            "/content/drive/MyDrive/masks/test129.png\n",
            "/content/drive/MyDrive/masks/test130.png\n",
            "/content/drive/MyDrive/masks/test131.png\n",
            "/content/drive/MyDrive/masks/test132.png\n",
            "/content/drive/MyDrive/masks/test133.png\n",
            "/content/drive/MyDrive/masks/test134.png\n",
            "/content/drive/MyDrive/masks/test135.png\n",
            "/content/drive/MyDrive/masks/test136.png\n",
            "/content/drive/MyDrive/masks/test137.png\n",
            "/content/drive/MyDrive/masks/test138.png\n",
            "/content/drive/MyDrive/masks/test139.png\n",
            "/content/drive/MyDrive/masks/test140.png\n",
            "/content/drive/MyDrive/masks/test141.png\n",
            "/content/drive/MyDrive/masks/test142.png\n",
            "/content/drive/MyDrive/masks/test143.png\n",
            "/content/drive/MyDrive/masks/test144.png\n",
            "/content/drive/MyDrive/masks/test145.png\n",
            "/content/drive/MyDrive/masks/test146.png\n",
            "/content/drive/MyDrive/masks/test147.png\n",
            "/content/drive/MyDrive/masks/test148.png\n",
            "/content/drive/MyDrive/masks/test149.png\n",
            "/content/drive/MyDrive/masks/test150.png\n",
            "/content/drive/MyDrive/masks/test151.png\n",
            "/content/drive/MyDrive/masks/test152.png\n",
            "/content/drive/MyDrive/masks/test153.png\n",
            "/content/drive/MyDrive/masks/test154.png\n",
            "/content/drive/MyDrive/masks/test155.png\n",
            "/content/drive/MyDrive/masks/test156.png\n",
            "/content/drive/MyDrive/masks/test157.png\n",
            "/content/drive/MyDrive/masks/test158.png\n",
            "/content/drive/MyDrive/masks/test159.png\n",
            "/content/drive/MyDrive/masks/test160.png\n",
            "/content/drive/MyDrive/masks/test161.png\n",
            "/content/drive/MyDrive/masks/test162.png\n",
            "/content/drive/MyDrive/masks/test163.png\n",
            "/content/drive/MyDrive/masks/test164.png\n",
            "/content/drive/MyDrive/masks/test165.png\n",
            "/content/drive/MyDrive/masks/test166.png\n",
            "/content/drive/MyDrive/masks/test167.png\n",
            "/content/drive/MyDrive/masks/test168.png\n",
            "/content/drive/MyDrive/masks/test169.png\n",
            "/content/drive/MyDrive/masks/test170.png\n",
            "/content/drive/MyDrive/masks/test171.png\n",
            "/content/drive/MyDrive/masks/test172.png\n",
            "/content/drive/MyDrive/masks/test173.png\n",
            "/content/drive/MyDrive/masks/test174.png\n",
            "/content/drive/MyDrive/masks/test175.png\n",
            "/content/drive/MyDrive/masks/test176.png\n",
            "/content/drive/MyDrive/masks/test177.png\n",
            "/content/drive/MyDrive/masks/test178.png\n",
            "/content/drive/MyDrive/masks/test179.png\n",
            "/content/drive/MyDrive/masks/test180.png\n",
            "/content/drive/MyDrive/masks/test181.png\n",
            "/content/drive/MyDrive/masks/test182.png\n",
            "/content/drive/MyDrive/masks/test183.png\n",
            "/content/drive/MyDrive/masks/test184.png\n",
            "/content/drive/MyDrive/masks/test185.png\n",
            "/content/drive/MyDrive/masks/test186.png\n",
            "/content/drive/MyDrive/masks/test187.png\n",
            "/content/drive/MyDrive/masks/test188.png\n",
            "/content/drive/MyDrive/masks/test189.png\n",
            "/content/drive/MyDrive/masks/test190.png\n",
            "/content/drive/MyDrive/masks/test191.png\n",
            "/content/drive/MyDrive/masks/test192.png\n",
            "/content/drive/MyDrive/masks/test193.png\n",
            "/content/drive/MyDrive/masks/test194.png\n",
            "/content/drive/MyDrive/masks/test195.png\n",
            "/content/drive/MyDrive/masks/test196.png\n",
            "/content/drive/MyDrive/masks/test197.png\n",
            "/content/drive/MyDrive/masks/test198.png\n",
            "/content/drive/MyDrive/masks/test199.png\n",
            "/content/drive/MyDrive/masks/test200.png\n",
            "/content/drive/MyDrive/masks/test201.png\n",
            "/content/drive/MyDrive/masks/test202.png\n",
            "/content/drive/MyDrive/masks/test203.png\n",
            "/content/drive/MyDrive/masks/test204.png\n",
            "/content/drive/MyDrive/masks/test205.png\n",
            "/content/drive/MyDrive/masks/test206.png\n",
            "/content/drive/MyDrive/masks/test207.png\n",
            "/content/drive/MyDrive/masks/test208.png\n",
            "/content/drive/MyDrive/masks/test209.png\n",
            "/content/drive/MyDrive/masks/test210.png\n",
            "/content/drive/MyDrive/masks/test211.png\n",
            "/content/drive/MyDrive/masks/test212.png\n",
            "/content/drive/MyDrive/masks/test213.png\n",
            "/content/drive/MyDrive/masks/test214.png\n",
            "/content/drive/MyDrive/masks/test215.png\n",
            "/content/drive/MyDrive/masks/test216.png\n",
            "/content/drive/MyDrive/masks/test217.png\n",
            "/content/drive/MyDrive/masks/test218.png\n",
            "/content/drive/MyDrive/masks/test219.png\n",
            "/content/drive/MyDrive/masks/test220.png\n",
            "/content/drive/MyDrive/masks/test221.png\n",
            "/content/drive/MyDrive/masks/test222.png\n",
            "/content/drive/MyDrive/masks/test223.png\n",
            "/content/drive/MyDrive/masks/test224.png\n",
            "/content/drive/MyDrive/masks/test225.png\n",
            "/content/drive/MyDrive/masks/test226.png\n",
            "/content/drive/MyDrive/masks/test227.png\n",
            "/content/drive/MyDrive/masks/test228.png\n",
            "/content/drive/MyDrive/masks/test229.png\n",
            "/content/drive/MyDrive/masks/test230.png\n",
            "/content/drive/MyDrive/masks/test231.png\n",
            "/content/drive/MyDrive/masks/test232.png\n",
            "/content/drive/MyDrive/masks/test233.png\n",
            "/content/drive/MyDrive/masks/test234.png\n",
            "/content/drive/MyDrive/masks/test235.png\n",
            "/content/drive/MyDrive/masks/test236.png\n",
            "/content/drive/MyDrive/masks/test237.png\n",
            "/content/drive/MyDrive/masks/test238.png\n",
            "/content/drive/MyDrive/masks/test239.png\n",
            "/content/drive/MyDrive/masks/test240.png\n",
            "/content/drive/MyDrive/masks/test241.png\n",
            "/content/drive/MyDrive/masks/test242.png\n",
            "/content/drive/MyDrive/masks/test243.png\n",
            "/content/drive/MyDrive/masks/test244.png\n",
            "/content/drive/MyDrive/masks/test245.png\n",
            "/content/drive/MyDrive/masks/test246.png\n",
            "/content/drive/MyDrive/masks/test247.png\n",
            "/content/drive/MyDrive/masks/test248.png\n",
            "/content/drive/MyDrive/masks/test249.png\n",
            "/content/drive/MyDrive/masks/test250.png\n",
            "/content/drive/MyDrive/masks/test251.png\n",
            "/content/drive/MyDrive/masks/test252.png\n",
            "/content/drive/MyDrive/masks/test253.png\n",
            "/content/drive/MyDrive/masks/test254.png\n",
            "/content/drive/MyDrive/masks/test255.png\n",
            "/content/drive/MyDrive/masks/test256.png\n",
            "/content/drive/MyDrive/masks/test257.png\n",
            "/content/drive/MyDrive/masks/test258.png\n",
            "/content/drive/MyDrive/masks/test259.png\n",
            "/content/drive/MyDrive/masks/test260.png\n",
            "/content/drive/MyDrive/masks/test261.png\n",
            "/content/drive/MyDrive/masks/test262.png\n",
            "/content/drive/MyDrive/masks/test263.png\n",
            "/content/drive/MyDrive/masks/test264.png\n",
            "/content/drive/MyDrive/masks/test265.png\n",
            "/content/drive/MyDrive/masks/test266.png\n",
            "/content/drive/MyDrive/masks/test267.png\n",
            "/content/drive/MyDrive/masks/test268.png\n",
            "/content/drive/MyDrive/masks/test269.png\n",
            "/content/drive/MyDrive/masks/test270.png\n",
            "/content/drive/MyDrive/masks/test271.png\n",
            "/content/drive/MyDrive/masks/test272.png\n",
            "/content/drive/MyDrive/masks/test273.png\n",
            "/content/drive/MyDrive/masks/test274.png\n",
            "/content/drive/MyDrive/masks/test275.png\n",
            "/content/drive/MyDrive/masks/test276.png\n",
            "/content/drive/MyDrive/masks/test277.png\n",
            "/content/drive/MyDrive/masks/test278.png\n",
            "/content/drive/MyDrive/masks/test279.png\n",
            "/content/drive/MyDrive/masks/test280.png\n",
            "/content/drive/MyDrive/masks/test281.png\n",
            "/content/drive/MyDrive/masks/test282.png\n",
            "/content/drive/MyDrive/masks/test283.png\n",
            "/content/drive/MyDrive/masks/test284.png\n",
            "/content/drive/MyDrive/masks/test285.png\n",
            "/content/drive/MyDrive/masks/test286.png\n",
            "/content/drive/MyDrive/masks/test287.png\n",
            "/content/drive/MyDrive/masks/test288.png\n",
            "/content/drive/MyDrive/masks/test289.png\n",
            "/content/drive/MyDrive/masks/test290.png\n",
            "/content/drive/MyDrive/masks/test291.png\n",
            "/content/drive/MyDrive/masks/test292.png\n",
            "/content/drive/MyDrive/masks/test293.png\n",
            "/content/drive/MyDrive/masks/test294.png\n",
            "/content/drive/MyDrive/masks/test295.png\n",
            "/content/drive/MyDrive/masks/test296.png\n",
            "/content/drive/MyDrive/masks/test297.png\n",
            "/content/drive/MyDrive/masks/test298.png\n",
            "/content/drive/MyDrive/masks/test299.png\n",
            "/content/drive/MyDrive/masks/test300.png\n",
            "/content/drive/MyDrive/masks/test301.png\n",
            "/content/drive/MyDrive/masks/test302.png\n",
            "/content/drive/MyDrive/masks/test303.png\n",
            "/content/drive/MyDrive/masks/test304.png\n",
            "/content/drive/MyDrive/masks/test305.png\n",
            "/content/drive/MyDrive/masks/test306.png\n",
            "/content/drive/MyDrive/masks/test307.png\n",
            "/content/drive/MyDrive/masks/test308.png\n",
            "/content/drive/MyDrive/masks/test309.png\n",
            "/content/drive/MyDrive/masks/test310.png\n",
            "/content/drive/MyDrive/masks/test311.png\n",
            "/content/drive/MyDrive/masks/test312.png\n",
            "/content/drive/MyDrive/masks/test313.png\n",
            "/content/drive/MyDrive/masks/test314.png\n",
            "/content/drive/MyDrive/masks/test315.png\n",
            "/content/drive/MyDrive/masks/test316.png\n",
            "/content/drive/MyDrive/masks/test317.png\n",
            "/content/drive/MyDrive/masks/test318.png\n",
            "/content/drive/MyDrive/masks/test319.png\n",
            "/content/drive/MyDrive/masks/test320.png\n",
            "/content/drive/MyDrive/masks/test321.png\n",
            "/content/drive/MyDrive/masks/test322.png\n",
            "/content/drive/MyDrive/masks/test323.png\n",
            "/content/drive/MyDrive/masks/test324.png\n",
            "/content/drive/MyDrive/masks/test325.png\n",
            "/content/drive/MyDrive/masks/test326.png\n",
            "/content/drive/MyDrive/masks/test327.png\n",
            "/content/drive/MyDrive/masks/test328.png\n",
            "/content/drive/MyDrive/masks/test329.png\n",
            "/content/drive/MyDrive/masks/test330.png\n",
            "/content/drive/MyDrive/masks/test331.png\n",
            "/content/drive/MyDrive/masks/test332.png\n",
            "/content/drive/MyDrive/masks/test333.png\n",
            "/content/drive/MyDrive/masks/test334.png\n",
            "/content/drive/MyDrive/masks/test335.png\n",
            "/content/drive/MyDrive/masks/test336.png\n",
            "/content/drive/MyDrive/masks/test337.png\n",
            "/content/drive/MyDrive/masks/test338.png\n",
            "/content/drive/MyDrive/masks/test339.png\n",
            "/content/drive/MyDrive/masks/test340.png\n"
          ]
        }
      ],
      "source": [
        "# generating the prediction file for the validation set\n",
        "submission_filename = '/content/drive/MyDrive/masks/m1.csv'\n",
        "image_filenames = []\n",
        "for i in range(1, 341):\n",
        "    image_filename = '/content/drive/MyDrive/masks/test%d.png' % i\n",
        "    print(image_filename)\n",
        "    image_filenames.append(image_filename)\n",
        "masks_to_submission(submission_filename, *image_filenames)"
      ]
    },
    {
      "cell_type": "code",
      "execution_count": null,
      "metadata": {
        "id": "T2JhxXrEPc7_"
      },
      "outputs": [],
      "source": []
    }
  ],
  "metadata": {
    "colab": {
      "collapsed_sections": [],
      "name": "0.878.ipynb",
      "provenance": []
    },
    "kernelspec": {
      "display_name": "Python 3",
      "name": "python3"
    },
    "language_info": {
      "name": "python"
    }
  },
  "nbformat": 4,
  "nbformat_minor": 0
}
