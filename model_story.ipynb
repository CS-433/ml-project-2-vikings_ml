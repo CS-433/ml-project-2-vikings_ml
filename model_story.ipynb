{
  "cells": [
    {
      "cell_type": "markdown",
      "metadata": {},
      "source": [
        "This notebook goes through the entire process of our participation in the AICrowd challenge Road Segmentation. The notebook should be seen as a complement to the final report."
      ]
    },
    {
      "cell_type": "markdown",
      "metadata": {
        "id": "XDSdgEhNiECY"
      },
      "source": [
        "### Imports and setup\n",
        "\n",
        "This section handles the necessary imports and setup for the notebook."
      ]
    },
    {
      "cell_type": "code",
      "execution_count": 1,
      "metadata": {
        "colab": {
          "base_uri": "https://localhost:8080/"
        },
        "id": "xjKCvSy6ykuO",
        "outputId": "ced1e71e-f4ec-4bbd-9916-cf6d4c786322"
      },
      "outputs": [
        {
          "name": "stdout",
          "output_type": "stream",
          "text": [
            "Mounted at /content/drive\n"
          ]
        }
      ],
      "source": [
        "# Mounts drive in Colab\n",
        "from google.colab import drive\n",
        "drive.mount('/content/drive')"
      ]
    },
    {
      "cell_type": "markdown",
      "metadata": {},
      "source": [
        "Installing the segmentation models for Keras library"
      ]
    },
    {
      "cell_type": "code",
      "execution_count": null,
      "metadata": {},
      "outputs": [],
      "source": [
        "pip install -U segmentation-models"
      ]
    },
    {
      "cell_type": "code",
      "execution_count": null,
      "metadata": {},
      "outputs": [],
      "source": [
        "import numpy as np\n",
        "import tensorflow as tf\n",
        "import tensorflow.keras as keras\n",
        "from tensorflow.keras.models import load_model\n",
        "from tensorflow.keras.utils import plot_model\n",
        "from tensorflow.keras.preprocessing.image import ImageDataGenerator\n",
        "import segmentation_models as sm\n",
        "sm.set_framework('tf.keras')\n",
        "import os\n",
        "import matplotlib.image as mpimg\n",
        "from PIL import Image\n",
        "import cv2\n",
        "from seg_mod_unet.data_handling import extract_data, extract_data_test, extract_labels\n",
        "from seg_mod_unet.helpers import patch_to_label, window_predict, img_float_to_uint8, save_predictions, masks_to_submission\n",
        "import math\n",
        "from sklearn.metrics import f1_score, accuracy_score\n",
        "import matplotlib.pyplot as plt\n",
        "import seaborn as sns\n",
        "# setting the style for plots using seaborn\n",
        "sns.set()\n",
        "sns.set_style(\"white\")"
      ]
    },
    {
      "cell_type": "markdown",
      "metadata": {
        "id": "SDgkrL0WiJvB"
      },
      "source": [
        "### Extracting data and masks"
      ]
    },
    {
      "cell_type": "markdown",
      "metadata": {},
      "source": [
        "Unzipping the data folders for quick access in Colab"
      ]
    },
    {
      "cell_type": "code",
      "execution_count": null,
      "metadata": {},
      "outputs": [],
      "source": [
        "!unzip \"/content/drive/My Drive/ml/data.zip\" -d \"/content\""
      ]
    },
    {
      "cell_type": "code",
      "execution_count": null,
      "metadata": {},
      "outputs": [],
      "source": [
        "!unzip \"/content/drive/My Drive/ml/testing.zip\" -d \"/content\""
      ]
    },
    {
      "cell_type": "code",
      "execution_count": 6,
      "metadata": {
        "id": "HAmIB_Ly-doI"
      },
      "outputs": [],
      "source": [
        "# Defining paths to images and masks\n",
        "train_data_path = '/content/data/training/images/'\n",
        "train_labels_path = '/content/data/training/groundtruth/'\n",
        "\n",
        "# Extracting the data and masks\n",
        "x_train = extract_data(train_data_path)\n",
        "y_train = extract_labels(train_labels_path)"
      ]
    },
    {
      "cell_type": "code",
      "execution_count": 7,
      "metadata": {
        "id": "95ry9mfNhIdQ"
      },
      "outputs": [],
      "source": [
        "# Splitting the dataset into two, one training set and one validation set\n",
        "x_val = x_train[1360:]\n",
        "y_val = y_train[1360:]\n",
        "x_train = x_train[0:1360]\n",
        "y_train = y_train[0:1360]"
      ]
    },
    {
      "cell_type": "markdown",
      "metadata": {
        "id": "R32kGRAuiNB2"
      },
      "source": [
        "### Model"
      ]
    },
    {
      "cell_type": "code",
      "execution_count": 8,
      "metadata": {
        "id": "MNd54Ooqqevz"
      },
      "outputs": [],
      "source": [
        "# defining backbone for the model\n",
        "BACKBONE = 'resnet34'\n",
        "# downloading preprocessing function for the model\n",
        "preprocess_input = sm.get_preprocessing(BACKBONE)\n",
        "\n",
        "# preprocessing training and validation data\n",
        "x_train = preprocess_input(x_train)\n",
        "x_val = preprocess_input(x_val)"
      ]
    },
    {
      "cell_type": "code",
      "execution_count": 9,
      "metadata": {
        "colab": {
          "base_uri": "https://localhost:8080/"
        },
        "id": "DD_zSEI4AERZ",
        "outputId": "38af36f3-1478-4b2e-98f0-24e286fde3c0"
      },
      "outputs": [
        {
          "name": "stdout",
          "output_type": "stream",
          "text": [
            "Downloading data from https://github.com/qubvel/classification_models/releases/download/0.0.1/resnet34_imagenet_1000_no_top.h5\n",
            "85524480/85521592 [==============================] - 2s 0us/step\n",
            "85532672/85521592 [==============================] - 2s 0us/step\n"
          ]
        },
        {
          "name": "stderr",
          "output_type": "stream",
          "text": [
            "/usr/local/lib/python3.7/dist-packages/keras/engine/functional.py:1410: CustomMaskWarning: Custom mask layers require a config and must override get_config. When loading, the custom mask layer must be passed to the custom_objects argument.\n",
            "  layer_config = serialize_layer_fn(layer)\n"
          ]
        },
        {
          "name": "stdout",
          "output_type": "stream",
          "text": [
            "Epoch 1/50\n",
            "43/43 [==============================] - 78s 1s/step - loss: 1.0840 - iou_score: 0.3173 - f1-score: 0.4720 - accuracy: 0.6757 - val_loss: 3.7963 - val_iou_score: 8.4665e-09 - val_f1-score: 1.6905e-08 - val_accuracy: 0.7649\n",
            "Epoch 2/50\n",
            "43/43 [==============================] - 46s 1s/step - loss: 0.7195 - iou_score: 0.5270 - f1-score: 0.6897 - accuracy: 0.7358 - val_loss: 2.2874 - val_iou_score: 0.0330 - val_f1-score: 0.0639 - val_accuracy: 0.7649\n",
            "Epoch 3/50\n",
            "43/43 [==============================] - 42s 966ms/step - loss: 0.6146 - iou_score: 0.6012 - f1-score: 0.7506 - accuracy: 0.7446 - val_loss: 3.4945 - val_iou_score: 0.0094 - val_f1-score: 0.0187 - val_accuracy: 0.7649\n",
            "Epoch 4/50\n",
            "43/43 [==============================] - 41s 964ms/step - loss: 0.5686 - iou_score: 0.6349 - f1-score: 0.7764 - accuracy: 0.7489 - val_loss: 3.7957 - val_iou_score: 1.2973e-06 - val_f1-score: 2.5945e-06 - val_accuracy: 0.7649\n",
            "Epoch 5/50\n",
            "43/43 [==============================] - 46s 1s/step - loss: 0.5124 - iou_score: 0.6684 - f1-score: 0.8010 - accuracy: 0.7523 - val_loss: 1.6707 - val_iou_score: 0.0229 - val_f1-score: 0.0447 - val_accuracy: 0.7649\n",
            "Epoch 6/50\n",
            "43/43 [==============================] - 42s 965ms/step - loss: 0.4695 - iou_score: 0.6971 - f1-score: 0.8214 - accuracy: 0.7540 - val_loss: 1.7943 - val_iou_score: 0.0142 - val_f1-score: 0.0280 - val_accuracy: 0.7649\n",
            "Epoch 7/50\n",
            "43/43 [==============================] - 41s 965ms/step - loss: 0.4406 - iou_score: 0.7170 - f1-score: 0.8350 - accuracy: 0.7558 - val_loss: 1.7815 - val_iou_score: 0.0141 - val_f1-score: 0.0278 - val_accuracy: 0.7649\n",
            "Epoch 8/50\n",
            "43/43 [==============================] - 41s 966ms/step - loss: 0.4223 - iou_score: 0.7283 - f1-score: 0.8427 - accuracy: 0.7567 - val_loss: 1.8614 - val_iou_score: 0.0103 - val_f1-score: 0.0205 - val_accuracy: 0.7649\n",
            "Epoch 9/50\n",
            "43/43 [==============================] - 41s 966ms/step - loss: 0.3963 - iou_score: 0.7457 - f1-score: 0.8542 - accuracy: 0.7576 - val_loss: 2.1507 - val_iou_score: 0.0020 - val_f1-score: 0.0039 - val_accuracy: 0.7649\n",
            "Epoch 10/50\n",
            "43/43 [==============================] - 41s 966ms/step - loss: 0.3779 - iou_score: 0.7577 - f1-score: 0.8620 - accuracy: 0.7587 - val_loss: 2.2196 - val_iou_score: 0.0026 - val_f1-score: 0.0051 - val_accuracy: 0.7649\n",
            "Epoch 11/50\n",
            "43/43 [==============================] - 41s 966ms/step - loss: 0.3585 - iou_score: 0.7709 - f1-score: 0.8705 - accuracy: 0.7596 - val_loss: 2.2793 - val_iou_score: 0.0016 - val_f1-score: 0.0033 - val_accuracy: 0.7649\n",
            "Epoch 12/50\n",
            "43/43 [==============================] - 41s 966ms/step - loss: 0.3519 - iou_score: 0.7750 - f1-score: 0.8732 - accuracy: 0.7600 - val_loss: 2.4398 - val_iou_score: 5.4829e-04 - val_f1-score: 0.0011 - val_accuracy: 0.7649\n",
            "Epoch 13/50\n",
            "43/43 [==============================] - 42s 967ms/step - loss: 0.3335 - iou_score: 0.7872 - f1-score: 0.8809 - accuracy: 0.7607 - val_loss: 2.4186 - val_iou_score: 9.1506e-04 - val_f1-score: 0.0018 - val_accuracy: 0.7649\n",
            "Epoch 14/50\n",
            "43/43 [==============================] - 42s 967ms/step - loss: 0.3266 - iou_score: 0.7917 - f1-score: 0.8837 - accuracy: 0.7608 - val_loss: 2.5626 - val_iou_score: 2.6969e-04 - val_f1-score: 5.3924e-04 - val_accuracy: 0.7649\n",
            "Epoch 15/50\n",
            "43/43 [==============================] - 41s 966ms/step - loss: 0.3268 - iou_score: 0.7920 - f1-score: 0.8838 - accuracy: 0.7610 - val_loss: 2.8225 - val_iou_score: 1.3840e-04 - val_f1-score: 2.7675e-04 - val_accuracy: 0.7649\n",
            "Epoch 16/50\n",
            "43/43 [==============================] - 41s 966ms/step - loss: 0.3171 - iou_score: 0.7985 - f1-score: 0.8880 - accuracy: 0.7612 - val_loss: 2.2971 - val_iou_score: 0.0672 - val_f1-score: 0.1257 - val_accuracy: 0.6962\n",
            "Epoch 17/50\n",
            "43/43 [==============================] - 41s 966ms/step - loss: 0.3107 - iou_score: 0.8030 - f1-score: 0.8907 - accuracy: 0.7614 - val_loss: 2.5267 - val_iou_score: 0.0135 - val_f1-score: 0.0265 - val_accuracy: 0.7600\n",
            "Epoch 18/50\n",
            "43/43 [==============================] - 42s 967ms/step - loss: 0.2879 - iou_score: 0.8172 - f1-score: 0.8994 - accuracy: 0.7621 - val_loss: 2.2546 - val_iou_score: 0.0325 - val_f1-score: 0.0628 - val_accuracy: 0.7531\n",
            "Epoch 19/50\n",
            "43/43 [==============================] - 42s 968ms/step - loss: 0.2823 - iou_score: 0.8217 - f1-score: 0.9021 - accuracy: 0.7622 - val_loss: 2.4977 - val_iou_score: 0.0197 - val_f1-score: 0.0385 - val_accuracy: 0.7618\n",
            "Epoch 20/50\n",
            "43/43 [==============================] - 46s 1s/step - loss: 0.2935 - iou_score: 0.8144 - f1-score: 0.8976 - accuracy: 0.7618 - val_loss: 1.3184 - val_iou_score: 0.3413 - val_f1-score: 0.5078 - val_accuracy: 0.7221\n",
            "Epoch 21/50\n",
            "43/43 [==============================] - 42s 967ms/step - loss: 0.4003 - iou_score: 0.7488 - f1-score: 0.8561 - accuracy: 0.7571 - val_loss: 1.6478 - val_iou_score: 0.2402 - val_f1-score: 0.3861 - val_accuracy: 0.7562\n",
            "Epoch 22/50\n",
            "43/43 [==============================] - 46s 1s/step - loss: 0.3628 - iou_score: 0.7685 - f1-score: 0.8690 - accuracy: 0.7590 - val_loss: 1.2585 - val_iou_score: 0.3652 - val_f1-score: 0.5346 - val_accuracy: 0.6371\n",
            "Epoch 23/50\n",
            "43/43 [==============================] - 42s 966ms/step - loss: 0.3546 - iou_score: 0.7737 - f1-score: 0.8723 - accuracy: 0.7589 - val_loss: 1.5400 - val_iou_score: 0.2912 - val_f1-score: 0.4488 - val_accuracy: 0.7178\n",
            "Epoch 24/50\n",
            "43/43 [==============================] - 41s 966ms/step - loss: 0.3905 - iou_score: 0.7527 - f1-score: 0.8587 - accuracy: 0.7576 - val_loss: 1.4992 - val_iou_score: 0.2148 - val_f1-score: 0.3529 - val_accuracy: 0.7054\n",
            "Epoch 25/50\n",
            "43/43 [==============================] - 46s 1s/step - loss: 0.3453 - iou_score: 0.7793 - f1-score: 0.8759 - accuracy: 0.7596 - val_loss: 0.7255 - val_iou_score: 0.5720 - val_f1-score: 0.7270 - val_accuracy: 0.7142\n",
            "Epoch 26/50\n",
            "43/43 [==============================] - 46s 1s/step - loss: 0.3129 - iou_score: 0.8012 - f1-score: 0.8896 - accuracy: 0.7611 - val_loss: 0.5668 - val_iou_score: 0.6536 - val_f1-score: 0.7899 - val_accuracy: 0.7517\n",
            "Epoch 27/50\n",
            "43/43 [==============================] - 41s 961ms/step - loss: 0.2943 - iou_score: 0.8138 - f1-score: 0.8973 - accuracy: 0.7617 - val_loss: 0.5745 - val_iou_score: 0.6686 - val_f1-score: 0.8007 - val_accuracy: 0.7487\n",
            "Epoch 28/50\n",
            "43/43 [==============================] - 46s 1s/step - loss: 0.2945 - iou_score: 0.8140 - f1-score: 0.8974 - accuracy: 0.7617 - val_loss: 0.4500 - val_iou_score: 0.7363 - val_f1-score: 0.8479 - val_accuracy: 0.7532\n",
            "Epoch 29/50\n",
            "43/43 [==============================] - 46s 1s/step - loss: 0.2729 - iou_score: 0.8281 - f1-score: 0.9060 - accuracy: 0.7625 - val_loss: 0.4240 - val_iou_score: 0.7531 - val_f1-score: 0.8590 - val_accuracy: 0.7592\n",
            "Epoch 30/50\n",
            "43/43 [==============================] - 49s 1s/step - loss: 0.2632 - iou_score: 0.8348 - f1-score: 0.9099 - accuracy: 0.7627 - val_loss: 0.4045 - val_iou_score: 0.7610 - val_f1-score: 0.8641 - val_accuracy: 0.7606\n",
            "Epoch 31/50\n",
            "43/43 [==============================] - 42s 968ms/step - loss: 0.2558 - iou_score: 0.8401 - f1-score: 0.9131 - accuracy: 0.7629 - val_loss: 0.4101 - val_iou_score: 0.7606 - val_f1-score: 0.8639 - val_accuracy: 0.7602\n",
            "Epoch 32/50\n",
            "43/43 [==============================] - 46s 1s/step - loss: 0.2525 - iou_score: 0.8420 - f1-score: 0.9142 - accuracy: 0.7629 - val_loss: 0.4043 - val_iou_score: 0.7650 - val_f1-score: 0.8667 - val_accuracy: 0.7605\n",
            "Epoch 33/50\n",
            "43/43 [==============================] - 47s 1s/step - loss: 0.2474 - iou_score: 0.8455 - f1-score: 0.9163 - accuracy: 0.7630 - val_loss: 0.3971 - val_iou_score: 0.7687 - val_f1-score: 0.8691 - val_accuracy: 0.7607\n",
            "Epoch 34/50\n",
            "43/43 [==============================] - 45s 1s/step - loss: 0.2425 - iou_score: 0.8488 - f1-score: 0.9182 - accuracy: 0.7631 - val_loss: 0.3916 - val_iou_score: 0.7691 - val_f1-score: 0.8693 - val_accuracy: 0.7603\n",
            "Epoch 35/50\n",
            "43/43 [==============================] - 41s 963ms/step - loss: 0.2385 - iou_score: 0.8519 - f1-score: 0.9200 - accuracy: 0.7631 - val_loss: 0.4023 - val_iou_score: 0.7713 - val_f1-score: 0.8708 - val_accuracy: 0.7609\n",
            "Epoch 36/50\n",
            "43/43 [==============================] - 41s 961ms/step - loss: 0.2389 - iou_score: 0.8516 - f1-score: 0.9198 - accuracy: 0.7631 - val_loss: 0.4026 - val_iou_score: 0.7710 - val_f1-score: 0.8705 - val_accuracy: 0.7614\n",
            "Epoch 37/50\n",
            "43/43 [==============================] - 41s 966ms/step - loss: 0.2345 - iou_score: 0.8547 - f1-score: 0.9217 - accuracy: 0.7632 - val_loss: 0.3946 - val_iou_score: 0.7739 - val_f1-score: 0.8724 - val_accuracy: 0.7607\n",
            "Epoch 38/50\n",
            "43/43 [==============================] - 41s 966ms/step - loss: 0.2351 - iou_score: 0.8543 - f1-score: 0.9214 - accuracy: 0.7632 - val_loss: 0.4005 - val_iou_score: 0.7727 - val_f1-score: 0.8716 - val_accuracy: 0.7613\n",
            "Epoch 39/50\n",
            "43/43 [==============================] - 46s 1s/step - loss: 0.2344 - iou_score: 0.8548 - f1-score: 0.9217 - accuracy: 0.7632 - val_loss: 0.3879 - val_iou_score: 0.7788 - val_f1-score: 0.8755 - val_accuracy: 0.7612\n",
            "Epoch 40/50\n",
            "43/43 [==============================] - 42s 966ms/step - loss: 0.2312 - iou_score: 0.8569 - f1-score: 0.9229 - accuracy: 0.7632 - val_loss: 0.3955 - val_iou_score: 0.7773 - val_f1-score: 0.8745 - val_accuracy: 0.7611\n",
            "Epoch 41/50\n",
            "43/43 [==============================] - 41s 967ms/step - loss: 0.2298 - iou_score: 0.8581 - f1-score: 0.9236 - accuracy: 0.7633 - val_loss: 0.3979 - val_iou_score: 0.7792 - val_f1-score: 0.8758 - val_accuracy: 0.7609\n",
            "Epoch 42/50\n",
            "43/43 [==============================] - 42s 968ms/step - loss: 0.2313 - iou_score: 0.8568 - f1-score: 0.9228 - accuracy: 0.7632 - val_loss: 0.3905 - val_iou_score: 0.7805 - val_f1-score: 0.8766 - val_accuracy: 0.7612\n",
            "Epoch 43/50\n",
            "43/43 [==============================] - 41s 966ms/step - loss: 0.2288 - iou_score: 0.8587 - f1-score: 0.9240 - accuracy: 0.7633 - val_loss: 0.3986 - val_iou_score: 0.7820 - val_f1-score: 0.8775 - val_accuracy: 0.7611\n",
            "Epoch 44/50\n",
            "43/43 [==============================] - 42s 967ms/step - loss: 0.2290 - iou_score: 0.8588 - f1-score: 0.9240 - accuracy: 0.7632 - val_loss: 0.3965 - val_iou_score: 0.7823 - val_f1-score: 0.8777 - val_accuracy: 0.7611\n",
            "Epoch 45/50\n",
            "43/43 [==============================] - 41s 967ms/step - loss: 0.2284 - iou_score: 0.8592 - f1-score: 0.9243 - accuracy: 0.7633 - val_loss: 0.4036 - val_iou_score: 0.7802 - val_f1-score: 0.8764 - val_accuracy: 0.7604\n",
            "Epoch 46/50\n",
            "43/43 [==============================] - 41s 966ms/step - loss: 0.2272 - iou_score: 0.8598 - f1-score: 0.9246 - accuracy: 0.7633 - val_loss: 0.4021 - val_iou_score: 0.7792 - val_f1-score: 0.8758 - val_accuracy: 0.7610\n",
            "Epoch 47/50\n",
            "43/43 [==============================] - 41s 966ms/step - loss: 0.2256 - iou_score: 0.8609 - f1-score: 0.9253 - accuracy: 0.7633 - val_loss: 0.4024 - val_iou_score: 0.7807 - val_f1-score: 0.8767 - val_accuracy: 0.7601\n",
            "Epoch 48/50\n",
            "43/43 [==============================] - 42s 967ms/step - loss: 0.2242 - iou_score: 0.8619 - f1-score: 0.9258 - accuracy: 0.7633 - val_loss: 0.3990 - val_iou_score: 0.7816 - val_f1-score: 0.8773 - val_accuracy: 0.7611\n",
            "Epoch 49/50\n",
            "43/43 [==============================] - 42s 967ms/step - loss: 0.2255 - iou_score: 0.8612 - f1-score: 0.9254 - accuracy: 0.7633 - val_loss: 0.3956 - val_iou_score: 0.7812 - val_f1-score: 0.8770 - val_accuracy: 0.7609\n",
            "Epoch 50/50\n",
            "43/43 [==============================] - 42s 967ms/step - loss: 0.2272 - iou_score: 0.8600 - f1-score: 0.9247 - accuracy: 0.7633 - val_loss: 0.4215 - val_iou_score: 0.7719 - val_f1-score: 0.8710 - val_accuracy: 0.7590\n"
          ]
        }
      ],
      "source": [
        "# defining model, using 'imagenet' as weights to converge faster\n",
        "model = sm.Unet(BACKBONE, encoder_weights='imagenet', input_shape=(256, 256, 3))\n",
        "\n",
        "# adding  L2 kernel regularizer\n",
        "sm.utils.set_regularization(model, kernel_regularizer=keras.regularizers.l2(1))\n",
        "\n",
        "# compiling the model using Adam optimizer and Binary Cross Entropy with Jaccard loss\n",
        "model.compile(\n",
        "    'Adam',\n",
        "    loss=sm.losses.bce_jaccard_loss,\n",
        "    metrics=[sm.metrics.iou_score, sm.metrics.FScore(),'accuracy'],\n",
        ")\n",
        "\n",
        "# saving the model thats scores best on the validation data\n",
        "callbacks = [keras.callbacks.ModelCheckpoint(\"/content/drive/MyDrive/Models/m6.h5\", save_best_only=True)]\n",
        "\n",
        "# training the model for 50 epochs with batch size = 32\n",
        "history = model.fit(x=x_train, y=y_train,\n",
        "   epochs=50, batch_size=32,\n",
        "   callbacks=callbacks,\n",
        "   validation_data=(x_val,y_val)\n",
        ")"
      ]
    },
    {
      "cell_type": "markdown",
      "metadata": {},
      "source": [
        "Visualizing results"
      ]
    },
    {
      "cell_type": "code",
      "execution_count": 23,
      "metadata": {
        "colab": {
          "base_uri": "https://localhost:8080/",
          "height": 585
        },
        "id": "jSBfYiAcrxZQ",
        "outputId": "bcb1195f-1967-4882-e7fd-da4c1e17a345"
      },
      "outputs": [
        {
          "data": {
            "image/png": "[encoded data removed]",
            "text/plain": [
              "<Figure size 432x288 with 1 Axes>"
            ]
          },
          "metadata": {},
          "output_type": "display_data"
        },
        {
          "data": {
            "image/png": "[encoded data removed]",
            "text/plain": [
              "<Figure size 432x288 with 1 Axes>"
            ]
          },
          "metadata": {},
          "output_type": "display_data"
        }
      ],
      "source": [
        "# F1-score for the model across epochs\n",
        "plt.plot(history.history['f1-score'])\n",
        "plt.plot(history.history['val_f1-score'])\n",
        "plt.title('F1-score')\n",
        "plt.ylabel('F1-score')\n",
        "plt.xlabel('Epoch')\n",
        "plt.legend(['train', 'val'], loc='upper left')\n",
        "plt.savefig('f1_score.png')\n",
        "plt.show()\n",
        "\n",
        "# Loss for the model across epochs\n",
        "plt.plot(history.history['loss'])\n",
        "plt.plot(history.history['val_loss'])\n",
        "plt.title('Binary Cross Entropy with Jaccard Loss')\n",
        "plt.ylabel('Loss')\n",
        "plt.xlabel('Epoch')\n",
        "plt.legend(['train', 'val'], loc='upper left')\n",
        "plt.savefig('loss.png')\n",
        "plt.show()"
      ]
    },
    {
      "cell_type": "markdown",
      "metadata": {
        "id": "q10Lk5ZfifD2"
      },
      "source": [
        "### Testing"
      ]
    },
    {
      "cell_type": "code",
      "execution_count": null,
      "metadata": {},
      "outputs": [],
      "source": [
        "# loading the best model for predictions\n",
        "model = load_model('/content/drive/MyDrive/Models/m5.h5', custom_objects\n",
        "                   = {'binary_crossentropy_plus_jaccard_loss':sm.losses.bce_jaccard_loss, \n",
        "                      'iou_score': sm.metrics.iou_score, 'f1-score': sm.metrics.FScore()})"
      ]
    },
    {
      "cell_type": "code",
      "execution_count": 15,
      "metadata": {
        "id": "B4vavqPn2g6m"
      },
      "outputs": [],
      "source": [
        "# generating predictions on the validation set\n",
        "y_pred = model.predict((x_val))\n",
        "\n",
        "# defining patch_size to be used in predictions\n",
        "patch_size = 16"
      ]
    },
    {
      "cell_type": "markdown",
      "metadata": {
        "id": "bGJUYIsIiqhM"
      },
      "source": [
        "Using validation set to find optimal threshold for defining a patch as road"
      ]
    },
    {
      "cell_type": "code",
      "execution_count": 17,
      "metadata": {
        "colab": {
          "base_uri": "https://localhost:8080/"
        },
        "id": "t7jzgduJ5kWA",
        "outputId": "eef59afe-36ac-41d5-92d5-b57183186df3"
      },
      "outputs": [
        {
          "name": "stdout",
          "output_type": "stream",
          "text": [
            "Threshold: 0.00, F1-score: 0.5233, Accuracy: 0.3543\n",
            "Threshold: 0.01, F1-score: 0.9750, Accuracy: 0.9844\n",
            "Threshold: 0.02, F1-score: 0.9763, Accuracy: 0.9855\n",
            "Threshold: 0.03, F1-score: 0.9765, Accuracy: 0.9859\n",
            "Threshold: 0.04, F1-score: 0.9764, Accuracy: 0.9860\n",
            "Threshold: 0.05, F1-score: 0.9773, Accuracy: 0.9866\n",
            "Threshold: 0.06, F1-score: 0.9774, Accuracy: 0.9868\n",
            "Threshold: 0.07, F1-score: 0.9767, Accuracy: 0.9866\n",
            "Threshold: 0.08, F1-score: 0.9766, Accuracy: 0.9866\n",
            "Threshold: 0.09, F1-score: 0.9774, Accuracy: 0.9872\n",
            "Threshold: 0.10, F1-score: 0.9776, Accuracy: 0.9875\n",
            "Threshold: 0.11, F1-score: 0.9775, Accuracy: 0.9875\n",
            "Threshold: 0.12, F1-score: 0.9778, Accuracy: 0.9878\n",
            "Threshold: 0.13, F1-score: 0.9779, Accuracy: 0.9879\n",
            "Threshold: 0.14, F1-score: 0.9771, Accuracy: 0.9876\n",
            "Threshold: 0.15, F1-score: 0.9765, Accuracy: 0.9874\n",
            "Threshold: 0.16, F1-score: 0.9760, Accuracy: 0.9872\n",
            "Threshold: 0.17, F1-score: 0.9754, Accuracy: 0.9871\n",
            "Threshold: 0.18, F1-score: 0.9753, Accuracy: 0.9871\n",
            "Threshold: 0.19, F1-score: 0.9756, Accuracy: 0.9874\n",
            "Threshold: 0.20, F1-score: 0.9753, Accuracy: 0.9873\n",
            "Threshold: 0.21, F1-score: 0.9758, Accuracy: 0.9877\n",
            "Threshold: 0.22, F1-score: 0.9754, Accuracy: 0.9876\n",
            "Threshold: 0.23, F1-score: 0.9750, Accuracy: 0.9875\n",
            "Threshold: 0.24, F1-score: 0.9736, Accuracy: 0.9869\n",
            "Threshold: 0.25, F1-score: 0.9737, Accuracy: 0.9871\n",
            "Threshold: 0.26, F1-score: 0.9728, Accuracy: 0.9868\n",
            "Threshold: 0.27, F1-score: 0.9731, Accuracy: 0.9871\n",
            "Threshold: 0.28, F1-score: 0.9730, Accuracy: 0.9871\n",
            "Threshold: 0.29, F1-score: 0.9718, Accuracy: 0.9867\n",
            "Threshold: 0.30, F1-score: 0.9720, Accuracy: 0.9869\n",
            "Threshold: 0.31, F1-score: 0.9713, Accuracy: 0.9867\n",
            "Threshold: 0.32, F1-score: 0.9715, Accuracy: 0.9869\n",
            "Threshold: 0.33, F1-score: 0.9710, Accuracy: 0.9868\n",
            "Threshold: 0.34, F1-score: 0.9702, Accuracy: 0.9866\n",
            "Threshold: 0.35, F1-score: 0.9703, Accuracy: 0.9867\n",
            "Threshold: 0.36, F1-score: 0.9698, Accuracy: 0.9866\n",
            "Threshold: 0.37, F1-score: 0.9703, Accuracy: 0.9870\n",
            "Threshold: 0.38, F1-score: 0.9693, Accuracy: 0.9867\n",
            "Threshold: 0.39, F1-score: 0.9684, Accuracy: 0.9864\n",
            "Threshold: 0.40, F1-score: 0.9687, Accuracy: 0.9867\n",
            "Threshold: 0.41, F1-score: 0.9687, Accuracy: 0.9868\n",
            "Threshold: 0.42, F1-score: 0.9683, Accuracy: 0.9868\n",
            "Threshold: 0.43, F1-score: 0.9679, Accuracy: 0.9868\n",
            "Threshold: 0.44, F1-score: 0.9668, Accuracy: 0.9865\n",
            "Threshold: 0.45, F1-score: 0.9650, Accuracy: 0.9859\n",
            "Threshold: 0.46, F1-score: 0.9642, Accuracy: 0.9858\n",
            "Threshold: 0.47, F1-score: 0.9629, Accuracy: 0.9854\n",
            "Threshold: 0.48, F1-score: 0.9630, Accuracy: 0.9857\n",
            "Threshold: 0.49, F1-score: 0.9619, Accuracy: 0.9854\n",
            "Threshold: 0.50, F1-score: 0.9615, Accuracy: 0.9855\n",
            "Threshold: 0.51, F1-score: 0.9613, Accuracy: 0.9856\n",
            "Threshold: 0.52, F1-score: 0.9604, Accuracy: 0.9854\n",
            "Threshold: 0.53, F1-score: 0.9590, Accuracy: 0.9851\n",
            "Threshold: 0.54, F1-score: 0.9590, Accuracy: 0.9854\n",
            "Threshold: 0.55, F1-score: 0.9577, Accuracy: 0.9851\n",
            "Threshold: 0.56, F1-score: 0.9585, Accuracy: 0.9856\n",
            "Threshold: 0.57, F1-score: 0.9586, Accuracy: 0.9858\n",
            "Threshold: 0.58, F1-score: 0.9558, Accuracy: 0.9851\n",
            "Threshold: 0.59, F1-score: 0.9562, Accuracy: 0.9855\n",
            "Threshold: 0.60, F1-score: 0.9562, Accuracy: 0.9857\n",
            "Threshold: 0.61, F1-score: 0.9555, Accuracy: 0.9856\n",
            "Threshold: 0.62, F1-score: 0.9550, Accuracy: 0.9857\n",
            "Threshold: 0.63, F1-score: 0.9557, Accuracy: 0.9861\n",
            "Threshold: 0.64, F1-score: 0.9551, Accuracy: 0.9861\n",
            "Threshold: 0.65, F1-score: 0.9542, Accuracy: 0.9860\n",
            "Threshold: 0.66, F1-score: 0.9535, Accuracy: 0.9860\n",
            "Threshold: 0.67, F1-score: 0.9528, Accuracy: 0.9860\n",
            "Threshold: 0.68, F1-score: 0.9528, Accuracy: 0.9863\n",
            "Threshold: 0.69, F1-score: 0.9530, Accuracy: 0.9865\n",
            "Threshold: 0.70, F1-score: 0.9517, Accuracy: 0.9864\n",
            "Threshold: 0.71, F1-score: 0.9520, Accuracy: 0.9867\n",
            "Threshold: 0.72, F1-score: 0.9518, Accuracy: 0.9868\n",
            "Threshold: 0.73, F1-score: 0.9519, Accuracy: 0.9871\n",
            "Threshold: 0.74, F1-score: 0.9517, Accuracy: 0.9872\n",
            "Threshold: 0.75, F1-score: 0.9508, Accuracy: 0.9872\n",
            "Threshold: 0.76, F1-score: 0.9501, Accuracy: 0.9873\n",
            "Threshold: 0.77, F1-score: 0.9517, Accuracy: 0.9879\n",
            "Threshold: 0.78, F1-score: 0.9521, Accuracy: 0.9882\n",
            "Threshold: 0.79, F1-score: 0.9520, Accuracy: 0.9884\n",
            "Threshold: 0.80, F1-score: 0.9521, Accuracy: 0.9885\n",
            "Threshold: 0.81, F1-score: 0.9523, Accuracy: 0.9888\n",
            "Threshold: 0.82, F1-score: 0.9502, Accuracy: 0.9885\n",
            "Threshold: 0.83, F1-score: 0.9481, Accuracy: 0.9882\n",
            "Threshold: 0.84, F1-score: 0.9460, Accuracy: 0.9879\n",
            "Threshold: 0.85, F1-score: 0.9446, Accuracy: 0.9878\n",
            "Threshold: 0.86, F1-score: 0.9419, Accuracy: 0.9875\n",
            "Threshold: 0.87, F1-score: 0.9381, Accuracy: 0.9869\n",
            "Threshold: 0.88, F1-score: 0.9350, Accuracy: 0.9866\n",
            "Threshold: 0.89, F1-score: 0.9312, Accuracy: 0.9861\n",
            "Threshold: 0.90, F1-score: 0.9265, Accuracy: 0.9855\n",
            "Threshold: 0.91, F1-score: 0.9175, Accuracy: 0.9842\n",
            "Threshold: 0.92, F1-score: 0.8993, Accuracy: 0.9814\n",
            "Threshold: 0.93, F1-score: 0.0000, Accuracy: 0.9024\n",
            "Threshold: 0.94, F1-score: 0.0000, Accuracy: 0.9048\n",
            "Threshold: 0.95, F1-score: 0.0000, Accuracy: 0.9072\n",
            "Threshold: 0.96, F1-score: 0.0000, Accuracy: 0.9100\n",
            "Threshold: 0.97, F1-score: 0.0000, Accuracy: 0.9134\n",
            "Threshold: 0.98, F1-score: 0.0000, Accuracy: 0.9193\n"
          ]
        },
        {
          "name": "stderr",
          "output_type": "stream",
          "text": [
            "/usr/local/lib/python3.7/dist-packages/sklearn/metrics/_classification.py:1570: UndefinedMetricWarning: F-score is ill-defined and being set to 0.0 due to no true nor predicted samples. Use `zero_division` parameter to control this behavior.\n",
            "  _warn_prf(average, \"true nor predicted\", \"F-score is\", len(true_sum))\n"
          ]
        },
        {
          "name": "stdout",
          "output_type": "stream",
          "text": [
            "Threshold: 0.99, F1-score: 0.0000, Accuracy: 1.0000\n",
            "Threshold: 1.00, F1-score: 0.0000, Accuracy: 1.0000\n"
          ]
        },
        {
          "name": "stderr",
          "output_type": "stream",
          "text": [
            "/usr/local/lib/python3.7/dist-packages/sklearn/metrics/_classification.py:1570: UndefinedMetricWarning: F-score is ill-defined and being set to 0.0 due to no true nor predicted samples. Use `zero_division` parameter to control this behavior.\n",
            "  _warn_prf(average, \"true nor predicted\", \"F-score is\", len(true_sum))\n"
          ]
        }
      ],
      "source": [
        "# defining a list of potential thresholds\n",
        "thresholds = [0.01*i for i in range(0, 101)]\n",
        "# list for saving f1-scores\n",
        "f1s = []\n",
        "# saving highest f1-score \n",
        "highest = 0\n",
        "\n",
        "# iterating through each threshold and calculating F1-score and accuracy\n",
        "for thr in thresholds:\n",
        "\n",
        "  # converting pixelwise predictions to patchwise predictions\n",
        "  y_pred_flattened = []\n",
        "  for im in y_pred:\n",
        "    for j in range(0, im.shape[1], patch_size):\n",
        "          for i in range(0, im.shape[0], patch_size):\n",
        "              patch = im[i:i + patch_size, j:j + patch_size]\n",
        "              label = patch_to_label(patch, thr)\n",
        "              y_pred_flattened.append(label)\n",
        "  y_pred_flattened = np.array(y_pred_flattened)\n",
        "\n",
        "  # converting mask to patchwise values\n",
        "  y_val_flattened = []\n",
        "  for im in y_val:\n",
        "    for j in range(0, im.shape[1], patch_size):\n",
        "          for i in range(0, im.shape[0], patch_size):\n",
        "              patch = im[i:i + patch_size, j:j + patch_size]\n",
        "              label = patch_to_label(patch, thr)\n",
        "              y_val_flattened.append(label)\n",
        "\n",
        "  # calculating and storing f1-score and accuracy\n",
        "  f1 = f1_score(y_val_flattened, y_pred_flattened)\n",
        "  acc = accuracy_score(y_val_flattened, y_pred_flattened)\n",
        "  f1s.append(f1)\n",
        "\n",
        "  # setting foreground_threshold for future predcitions to thr if thr gives the best f1-score\n",
        "  if f1>highest:\n",
        "    foreground_threshold=thr\n",
        "\n",
        "  print(\"Threshold: %.2f, F1-score: %.4f, Accuracy: %.4f\"%(thr, f1, acc))"
      ]
    },
    {
      "cell_type": "markdown",
      "metadata": {},
      "source": [
        "Plotting the F1-score by thresholds"
      ]
    },
    {
      "cell_type": "code",
      "execution_count": 22,
      "metadata": {
        "colab": {
          "base_uri": "https://localhost:8080/",
          "height": 301
        },
        "id": "9jF5nmBkeC1b",
        "outputId": "e17a7bef-3dc5-4b8f-e5b0-62fb69fc88c9"
      },
      "outputs": [
        {
          "data": {
            "image/png": "[encoded data removed]",
            "text/plain": [
              "<Figure size 432x288 with 1 Axes>"
            ]
          },
          "metadata": {},
          "output_type": "display_data"
        }
      ],
      "source": [
        "plt.plot(thresholds, f1s)\n",
        "plt.title(\"F1-score by foreground threshold\")\n",
        "plt.xlabel(\"Threshold\")\n",
        "plt.ylabel(\"F1-score\")\n",
        "plt.savefig(\"thr.png\")\n",
        "plt.show()"
      ]
    },
    {
      "cell_type": "markdown",
      "metadata": {
        "id": "RZqz4-g_o96Y"
      },
      "source": [
        "### Predicting"
      ]
    },
    {
      "cell_type": "code",
      "execution_count": null,
      "metadata": {
        "id": "RJrsJC0_LaXs"
      },
      "outputs": [],
      "source": [
        "# extracting the test set\n",
        "test_images = extract_data_test('/content/testing/')\n",
        "# preprocessing the test images\n",
        "test_images = preprocess_input(test_images)"
      ]
    },
    {
      "cell_type": "code",
      "execution_count": null,
      "metadata": {
        "id": "E4z50R46iDaK"
      },
      "outputs": [],
      "source": [
        "# generating predictions for the test images\n",
        "results = []\n",
        "for img in test_images:\n",
        "    results.append(window_predict(img, model))"
      ]
    },
    {
      "cell_type": "code",
      "execution_count": null,
      "metadata": {
        "id": "OkPdNCRrNXlZ"
      },
      "outputs": [],
      "source": [
        "# generating and saving the prediction masks for the testset\n",
        "for i in range(1, len(results)+1):\n",
        "  save_predictions(img, 'test%d'%i)"
      ]
    },
    {
      "cell_type": "markdown",
      "metadata": {},
      "source": [
        "Converting the saved images to a final submission file"
      ]
    },
    {
      "cell_type": "code",
      "execution_count": null,
      "metadata": {},
      "outputs": [],
      "source": [
        "# generating the prediction file for the test set\n",
        "submission_filename = '/content/drive/MyDrive/Pred/model.csv'\n",
        "image_filenames = []\n",
        "for i in range(1, 51):\n",
        "    image_filename = '/content/drive/MyDrive/Pred/test%d.png' % i\n",
        "    print(image_filename)\n",
        "    image_filenames.append(image_filename)\n",
        "masks_to_submission(submission_filename, foreground_threshold, *image_filenames)"
      ]
    }
  ],
  "metadata": {
    "accelerator": "GPU",
    "colab": {
      "collapsed_sections": [],
      "name": "0.878.ipynb",
      "provenance": []
    },
    "kernelspec": {
      "display_name": "Python 3",
      "name": "python3"
    },
    "language_info": {
      "codemirror_mode": {
        "name": "ipython",
        "version": 3
      },
      "file_extension": ".py",
      "mimetype": "text/x-python",
      "name": "python",
      "nbconvert_exporter": "python",
      "pygments_lexer": "ipython3",
      "version": "3.8.12"
    }
  },
  "nbformat": 4,
  "nbformat_minor": 0
}
