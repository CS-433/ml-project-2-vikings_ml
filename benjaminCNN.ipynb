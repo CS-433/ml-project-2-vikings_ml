{
 "cells": [
  {
   "cell_type": "markdown",
   "metadata": {},
   "source": [
    "### Imports"
   ]
  },
  {
   "cell_type": "code",
   "execution_count": 9,
   "metadata": {},
   "outputs": [],
   "source": [
    "from re import A\n",
    "import matplotlib.image as mpimg\n",
    "from PIL import Image\n",
    "from src.helpers.handling_images import img_crop, extract_data, extract_labels, label_to_img, make_img_overlay, concatenate_images, img_float_to_uint8\n",
    "from src.helpers.helpers import error_rate\n",
    "from sklearn.model_selection import train_test_split\n",
    "\n",
    "import numpy as np\n",
    "import tensorflow as tf\n",
    "from tensorflow.keras import models, layers"
   ]
  },
  {
   "cell_type": "markdown",
   "metadata": {},
   "source": [
    "### Defining paths"
   ]
  },
  {
   "cell_type": "code",
   "execution_count": 3,
   "metadata": {},
   "outputs": [],
   "source": [
    "train_data = 'data/training/images/'\n",
    "train_labels= 'data/training/groundtruth/' \n",
    "testing_dir = 'data/testing/' #path for test images\n",
    "test_images = 'predictions/testing/' #path to save test predictions"
   ]
  },
  {
   "cell_type": "markdown",
   "metadata": {},
   "source": [
    "### Extracting data"
   ]
  },
  {
   "cell_type": "code",
   "execution_count": 5,
   "metadata": {},
   "outputs": [],
   "source": [
    "train_data = extract_data(train_data)\n",
    "train_labels = extract_labels(train_labels)"
   ]
  },
  {
   "cell_type": "code",
   "execution_count": 14,
   "metadata": {},
   "outputs": [],
   "source": [
    "np.random.seed(1)\n",
    "\n",
    "X_train, X_test, y_train, y_test = train_test_split(train_data, train_labels, test_size=0.2)"
   ]
  },
  {
   "cell_type": "code",
   "execution_count": 15,
   "metadata": {},
   "outputs": [
    {
     "name": "stdout",
     "output_type": "stream",
     "text": [
      "Number of data points per class: c0 = 652716 c1 = 197284\n",
      "Balancing training data...\n",
      "394568\n",
      "(850000, 16, 16, 3)\n",
      "Number of data points per class: c0 = 197284 c1 = 197284\n"
     ]
    }
   ],
   "source": [
    "# Balances the trainingset\n",
    "\n",
    "c0 = 0  # bgrd\n",
    "c1 = 0  # road\n",
    "for i in range(len(X_train)):\n",
    "    if y_train[i][0] == 1:\n",
    "        c0 = c0 + 1\n",
    "    else:\n",
    "        c1 = c1 + 1\n",
    "print('Number of data points per class: c0 = ' + str(c0) + ' c1 = ' + str(c1))\n",
    "\n",
    "print('Balancing training data...')\n",
    "min_c = min(c0, c1)\n",
    "idx0 = [i for i, j in enumerate(y_train) if j[0] == 1]\n",
    "idx1 = [i for i, j in enumerate(y_train) if j[1] == 1]\n",
    "new_indices = idx0[0:min_c] + idx1[0:min_c]\n",
    "print(len(new_indices))\n",
    "print(X_train.shape)\n",
    "X_train = X_train[new_indices, :, :, :]\n",
    "y_train = y_train[new_indices]\n",
    "\n",
    "train_size = y_train.shape[0]\n",
    "\n",
    "c0 = 0\n",
    "c1 = 0\n",
    "for i in range(len(y_train)):\n",
    "    if y_train[i][0] == 1:\n",
    "        c0 = c0 + 1\n",
    "    else:\n",
    "        c1 = c1 + 1\n",
    "print('Number of data points per class: c0 = ' + str(c0) + ' c1 = ' + str(c1))"
   ]
  },
  {
   "cell_type": "markdown",
   "metadata": {},
   "source": [
    "### Defining hyperparameters"
   ]
  },
  {
   "cell_type": "code",
   "execution_count": 25,
   "metadata": {},
   "outputs": [
    {
     "name": "stdout",
     "output_type": "stream",
     "text": [
      "(394568, 16, 16, 3)\n"
     ]
    }
   ],
   "source": [
    "epochs = 1\n",
    "print(X_train.shape)\n",
    "in_shape = X_train.shape[1:]\n"
   ]
  },
  {
   "cell_type": "markdown",
   "metadata": {},
   "source": [
    "### Model"
   ]
  },
  {
   "cell_type": "code",
   "execution_count": 53,
   "metadata": {},
   "outputs": [
    {
     "name": "stdout",
     "output_type": "stream",
     "text": [
      "Model: \"sequential_19\"\n",
      "_________________________________________________________________\n",
      "Layer (type)                 Output Shape              Param #   \n",
      "=================================================================\n",
      "conv2d_68 (Conv2D)           (None, 14, 14, 32)        896       \n",
      "_________________________________________________________________\n",
      "conv2d_69 (Conv2D)           (None, 12, 12, 64)        18496     \n",
      "_________________________________________________________________\n",
      "max_pooling2d_28 (MaxPooling (None, 6, 6, 64)          0         \n",
      "_________________________________________________________________\n",
      "conv2d_70 (Conv2D)           (None, 4, 4, 64)          36928     \n",
      "_________________________________________________________________\n",
      "conv2d_71 (Conv2D)           (None, 2, 2, 128)         73856     \n",
      "=================================================================\n",
      "Total params: 130,176\n",
      "Trainable params: 130,176\n",
      "Non-trainable params: 0\n",
      "_________________________________________________________________\n"
     ]
    }
   ],
   "source": [
    "model = models.Sequential()\n",
    "model.add(layers.Conv2D(32, (3, 3), activation='relu', input_shape=(16,16,3)))\n",
    "model.add(layers.Conv2D(64, (3, 3), activation='relu'))\n",
    "model.add(layers.MaxPooling2D((2, 2)))\n",
    "model.add(layers.Conv2D(64, (3, 3), activation='relu'))\n",
    "model.add(layers.Conv2D(128, (3, 3), activation='relu'))\n",
    "model.summary()"
   ]
  },
  {
   "cell_type": "code",
   "execution_count": 54,
   "metadata": {},
   "outputs": [
    {
     "name": "stdout",
     "output_type": "stream",
     "text": [
      "Model: \"sequential_19\"\n",
      "_________________________________________________________________\n",
      "Layer (type)                 Output Shape              Param #   \n",
      "=================================================================\n",
      "conv2d_68 (Conv2D)           (None, 14, 14, 32)        896       \n",
      "_________________________________________________________________\n",
      "conv2d_69 (Conv2D)           (None, 12, 12, 64)        18496     \n",
      "_________________________________________________________________\n",
      "max_pooling2d_28 (MaxPooling (None, 6, 6, 64)          0         \n",
      "_________________________________________________________________\n",
      "conv2d_70 (Conv2D)           (None, 4, 4, 64)          36928     \n",
      "_________________________________________________________________\n",
      "conv2d_71 (Conv2D)           (None, 2, 2, 128)         73856     \n",
      "_________________________________________________________________\n",
      "flatten_4 (Flatten)          (None, 512)               0         \n",
      "_________________________________________________________________\n",
      "dense_16 (Dense)             (None, 128)               65664     \n",
      "_________________________________________________________________\n",
      "dense_17 (Dense)             (None, 128)               16512     \n",
      "_________________________________________________________________\n",
      "dense_18 (Dense)             (None, 128)               16512     \n",
      "_________________________________________________________________\n",
      "dense_19 (Dense)             (None, 2)                 258       \n",
      "=================================================================\n",
      "Total params: 229,122\n",
      "Trainable params: 229,122\n",
      "Non-trainable params: 0\n",
      "_________________________________________________________________\n"
     ]
    }
   ],
   "source": [
    "model.add(layers.Flatten())\n",
    "model.add(layers.Dense(128, activation='relu'))\n",
    "model.add(layers.Dense(128, activation='relu'))\n",
    "model.add(layers.Dense(128, activation='relu'))\n",
    "model.add(layers.Dense(2, activation='softmax'))\n",
    "model.summary()"
   ]
  },
  {
   "cell_type": "code",
   "execution_count": 55,
   "metadata": {},
   "outputs": [
    {
     "name": "stdout",
     "output_type": "stream",
     "text": [
      "Epoch 1/20\n",
      "12331/12331 [==============================] - 184s 15ms/step - loss: 0.5830 - accuracy: 0.6845 - val_loss: 0.4696 - val_accuracy: 0.7783\n",
      "Epoch 2/20\n",
      "12331/12331 [==============================] - 204s 17ms/step - loss: 0.5179 - accuracy: 0.7422 - val_loss: 0.4843 - val_accuracy: 0.7479\n",
      "Epoch 3/20\n",
      "12331/12331 [==============================] - 220s 18ms/step - loss: 0.5027 - accuracy: 0.7528 - val_loss: 0.4836 - val_accuracy: 0.7574\n",
      "Epoch 4/20\n",
      "12331/12331 [==============================] - 226s 18ms/step - loss: 0.4948 - accuracy: 0.7585 - val_loss: 0.5085 - val_accuracy: 0.7316\n",
      "Epoch 5/20\n",
      "12331/12331 [==============================] - 241s 20ms/step - loss: 0.4882 - accuracy: 0.7631 - val_loss: 0.5240 - val_accuracy: 0.7234\n",
      "Epoch 6/20\n",
      "12331/12331 [==============================] - 205s 17ms/step - loss: 0.4834 - accuracy: 0.7658 - val_loss: 0.4803 - val_accuracy: 0.7649\n",
      "Epoch 7/20\n",
      "12331/12331 [==============================] - 201s 16ms/step - loss: 0.4792 - accuracy: 0.7688 - val_loss: 0.4932 - val_accuracy: 0.7396\n",
      "Epoch 8/20\n",
      "12331/12331 [==============================] - 196s 16ms/step - loss: 0.4752 - accuracy: 0.7708 - val_loss: 0.4970 - val_accuracy: 0.7428\n",
      "Epoch 9/20\n",
      "12331/12331 [==============================] - 222s 18ms/step - loss: 0.4720 - accuracy: 0.7734 - val_loss: 0.4777 - val_accuracy: 0.7588\n",
      "Epoch 10/20\n",
      "12331/12331 [==============================] - 231s 19ms/step - loss: 0.4688 - accuracy: 0.7753 - val_loss: 0.4562 - val_accuracy: 0.7756\n",
      "Epoch 11/20\n",
      "12331/12331 [==============================] - 172s 14ms/step - loss: 0.4654 - accuracy: 0.7771 - val_loss: 0.5059 - val_accuracy: 0.7377\n",
      "Epoch 12/20\n",
      "12331/12331 [==============================] - 208s 17ms/step - loss: 0.4652 - accuracy: 0.7780 - val_loss: 0.4821 - val_accuracy: 0.7502\n",
      "Epoch 13/20\n",
      "12331/12331 [==============================] - 247s 20ms/step - loss: 0.4614 - accuracy: 0.7794 - val_loss: 0.5082 - val_accuracy: 0.7369\n",
      "Epoch 14/20\n",
      "12331/12331 [==============================] - 239s 19ms/step - loss: 0.4603 - accuracy: 0.7810 - val_loss: 0.4530 - val_accuracy: 0.7764\n",
      "Epoch 15/20\n",
      "12331/12331 [==============================] - 215s 17ms/step - loss: 0.4555 - accuracy: 0.7837 - val_loss: 0.4737 - val_accuracy: 0.7584\n",
      "Epoch 16/20\n",
      "12331/12331 [==============================] - 233s 19ms/step - loss: 0.4540 - accuracy: 0.7843 - val_loss: 0.5159 - val_accuracy: 0.7266\n",
      "Epoch 17/20\n",
      "12331/12331 [==============================] - 190s 15ms/step - loss: 0.4511 - accuracy: 0.7861 - val_loss: 0.5153 - val_accuracy: 0.7311\n",
      "Epoch 18/20\n",
      "12331/12331 [==============================] - 221s 18ms/step - loss: 0.4506 - accuracy: 0.7860 - val_loss: 0.5124 - val_accuracy: 0.7335\n",
      "Epoch 19/20\n",
      "12331/12331 [==============================] - 231s 19ms/step - loss: 0.4483 - accuracy: 0.7875 - val_loss: 0.4906 - val_accuracy: 0.7573\n",
      "Epoch 20/20\n",
      "12331/12331 [==============================] - 250s 20ms/step - loss: 0.4457 - accuracy: 0.7889 - val_loss: 0.4620 - val_accuracy: 0.7678\n"
     ]
    }
   ],
   "source": [
    "model.compile(optimizer='adam',\n",
    "              loss=tf.keras.losses.CategoricalCrossentropy(),\n",
    "              metrics=['accuracy'])\n",
    "\n",
    "history = model.fit(X_train, y_train, epochs=20, \n",
    "                    validation_data=(X_test, y_test))\n",
    "        "
   ]
  },
  {
   "cell_type": "code",
   "execution_count": 56,
   "metadata": {},
   "outputs": [
    {
     "name": "stdout",
     "output_type": "stream",
     "text": [
      "INFO:tensorflow:Assets written to: benjamin_cnn\\assets\n"
     ]
    }
   ],
   "source": [
    "model.save('benjamin_cnn')"
   ]
  },
  {
   "cell_type": "code",
   "execution_count": 57,
   "metadata": {},
   "outputs": [
    {
     "name": "stdout",
     "output_type": "stream",
     "text": [
      "6641/6641 - 35s - loss: 0.4620 - accuracy: 0.7678\n"
     ]
    },
    {
     "data": {
      "image/png": "[encoded data removed]",
      "text/plain": [
       "<Figure size 432x288 with 1 Axes>"
      ]
     },
     "metadata": {
      "needs_background": "light"
     },
     "output_type": "display_data"
    }
   ],
   "source": [
    "import matplotlib.pyplot as plt\n",
    "plt.plot(history.history['accuracy'], label='accuracy')\n",
    "plt.plot(history.history['val_accuracy'], label = 'val_accuracy')\n",
    "plt.xlabel('Epoch')\n",
    "plt.ylabel('Accuracy')\n",
    "plt.ylim([0.5, 1])\n",
    "plt.legend(loc='lower right')\n",
    "\n",
    "test_loss, test_acc = model.evaluate(X_test,  y_test, verbose=2)"
   ]
  }
 ],
 "metadata": {
  "interpreter": {
   "hash": "b8c157d209e467d2f57fbaf4152d8c890dc2d3d79f700704b63f212facd259b7"
  },
  "kernelspec": {
   "display_name": "Python 3.8.12 64-bit ('ml': conda)",
   "language": "python",
   "name": "python3"
  },
  "language_info": {
   "codemirror_mode": {
    "name": "ipython",
    "version": 3
   },
   "file_extension": ".py",
   "mimetype": "text/x-python",
   "name": "python",
   "nbconvert_exporter": "python",
   "pygments_lexer": "ipython3",
   "version": "3.8.12"
  },
  "orig_nbformat": 4
 },
 "nbformat": 4,
 "nbformat_minor": 2
}
