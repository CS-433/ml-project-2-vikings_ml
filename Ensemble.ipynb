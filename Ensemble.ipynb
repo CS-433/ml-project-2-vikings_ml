{
  "cells": [
    {
      "cell_type": "markdown",
      "metadata": {},
      "source": [
        "This ensemble model is our final and best prediction on AICrowd. It gave a F1-score of 0.901. The model uses five models trained on a 5-fold cross validation of the dataset. The ensemble model uses a simple voting rule where it only predicts road if all the five models predicted road for a given patch."
      ]
    },
    {
      "cell_type": "code",
      "execution_count": 1,
      "metadata": {
        "id": "2u9q-yPCoC8V"
      },
      "outputs": [],
      "source": [
        "import numpy as np\n",
        "import pandas as pd"
      ]
    },
    {
      "cell_type": "code",
      "execution_count": null,
      "metadata": {
        "id": "oRDSqCH1jO-T"
      },
      "outputs": [],
      "source": [
        "# filepaths to the five models' predictions on the test set\n",
        "X1 = '/content/drive/MyDrive/ml/m1_pred.csv'\n",
        "X2 = '/content/drive/MyDrive/ml/m2_pred.csv'\n",
        "X3 = '/content/drive/MyDrive/ml/m3_pred.csv'\n",
        "X4 = '/content/drive/MyDrive/ml/m4_pred.csv'\n",
        "X5 = '/content/drive/MyDrive/ml/m5_pred.csv'"
      ]
    },
    {
      "cell_type": "code",
      "execution_count": null,
      "metadata": {
        "id": "wJsHpaBxwPF7"
      },
      "outputs": [],
      "source": [
        "# reading the models' prediction into five dataframes\n",
        "\n",
        "df1 = pd.read_csv(X1)\n",
        "df1 = df1.set_index(['id'])\n",
        "df1 = df1.rename({'prediction':'p1'},axis=1)\n",
        "\n",
        "df2 = pd.read_csv(X2)\n",
        "df2 = df2.set_index(['id'])\n",
        "df2 = df2.rename({'prediction':'p2'},axis=1)\n",
        "\n",
        "df3 = pd.read_csv(X3)\n",
        "df3 = df3.set_index(['id'])\n",
        "df3 = df3.rename({'prediction':'p3'},axis=1)\n",
        "\n",
        "df4 = pd.read_csv(X4)\n",
        "df4 = df4.set_index(['id'])\n",
        "df4 = df4.rename({'prediction':'p4'},axis=1)\n",
        "\n",
        "df5 = pd.read_csv(X5)\n",
        "df5 = df5.set_index(['id'])\n",
        "df5 = df5.rename({'prediction':'p5'},axis=1)"
      ]
    },
    {
      "cell_type": "code",
      "execution_count": null,
      "metadata": {
        "id": "-gmgeHwZFlSd"
      },
      "outputs": [],
      "source": [
        "# dataframe containing the prediction of all models for each patch\n",
        "df = pd.concat([df1,df2,df3,df4,df5], axis=1)"
      ]
    },
    {
      "cell_type": "code",
      "execution_count": null,
      "metadata": {
        "colab": {
          "base_uri": "https://localhost:8080/",
          "height": 237
        },
        "id": "auW6XjwvFrLL",
        "outputId": "2d229a6f-c636-4a80-b8aa-6360eb9d5e3f"
      },
      "outputs": [
        {
          "data": {
            "text/html": [
              "<div>\n",
              "<style scoped>\n",
              "    .dataframe tbody tr th:only-of-type {\n",
              "        vertical-align: middle;\n",
              "    }\n",
              "\n",
              "    .dataframe tbody tr th {\n",
              "        vertical-align: top;\n",
              "    }\n",
              "\n",
              "    .dataframe thead th {\n",
              "        text-align: right;\n",
              "    }\n",
              "</style>\n",
              "<table border=\"1\" class=\"dataframe\">\n",
              "  <thead>\n",
              "    <tr style=\"text-align: right;\">\n",
              "      <th></th>\n",
              "      <th>p1</th>\n",
              "      <th>p2</th>\n",
              "      <th>p3</th>\n",
              "      <th>p4</th>\n",
              "      <th>p5</th>\n",
              "    </tr>\n",
              "    <tr>\n",
              "      <th>id</th>\n",
              "      <th></th>\n",
              "      <th></th>\n",
              "      <th></th>\n",
              "      <th></th>\n",
              "      <th></th>\n",
              "    </tr>\n",
              "  </thead>\n",
              "  <tbody>\n",
              "    <tr>\n",
              "      <th>001_0_0</th>\n",
              "      <td>0</td>\n",
              "      <td>0</td>\n",
              "      <td>0</td>\n",
              "      <td>0</td>\n",
              "      <td>0</td>\n",
              "    </tr>\n",
              "    <tr>\n",
              "      <th>001_0_16</th>\n",
              "      <td>1</td>\n",
              "      <td>1</td>\n",
              "      <td>1</td>\n",
              "      <td>1</td>\n",
              "      <td>1</td>\n",
              "    </tr>\n",
              "    <tr>\n",
              "      <th>001_0_32</th>\n",
              "      <td>1</td>\n",
              "      <td>1</td>\n",
              "      <td>1</td>\n",
              "      <td>1</td>\n",
              "      <td>1</td>\n",
              "    </tr>\n",
              "    <tr>\n",
              "      <th>001_0_48</th>\n",
              "      <td>1</td>\n",
              "      <td>1</td>\n",
              "      <td>1</td>\n",
              "      <td>1</td>\n",
              "      <td>1</td>\n",
              "    </tr>\n",
              "    <tr>\n",
              "      <th>001_0_64</th>\n",
              "      <td>0</td>\n",
              "      <td>0</td>\n",
              "      <td>0</td>\n",
              "      <td>0</td>\n",
              "      <td>0</td>\n",
              "    </tr>\n",
              "  </tbody>\n",
              "</table>\n",
              "</div>"
            ],
            "text/plain": [
              "          p1  p2  p3  p4  p5\n",
              "id                          \n",
              "001_0_0    0   0   0   0   0\n",
              "001_0_16   1   1   1   1   1\n",
              "001_0_32   1   1   1   1   1\n",
              "001_0_48   1   1   1   1   1\n",
              "001_0_64   0   0   0   0   0"
            ]
          },
          "execution_count": 24,
          "metadata": {},
          "output_type": "execute_result"
        }
      ],
      "source": [
        "# inspecting the dataframe to ensure correct loading\n",
        "df.head()"
      ]
    },
    {
      "cell_type": "code",
      "execution_count": 37,
      "metadata": {},
      "outputs": [],
      "source": [
        "# generating predictions, predicting road if all models predict road\n",
        "df['prediction'] = df.apply(lambda x: 1 if np.sum(x)>4 else 0, axis=1)"
      ]
    },
    {
      "cell_type": "code",
      "execution_count": 38,
      "metadata": {},
      "outputs": [],
      "source": [
        "# extracting only the prediction column\n",
        "df = df['prediction']"
      ]
    },
    {
      "cell_type": "code",
      "execution_count": 40,
      "metadata": {
        "id": "ahtVuHBnF66T"
      },
      "outputs": [],
      "source": [
        "# writing predctions to csv\n",
        "df.to_csv('predictions.csv')"
      ]
    }
  ],
  "metadata": {
    "colab": {
      "collapsed_sections": [],
      "name": "Ensemble.ipynb",
      "provenance": []
    },
    "kernelspec": {
      "display_name": "Python 3",
      "name": "python3"
    },
    "language_info": {
      "codemirror_mode": {
        "name": "ipython",
        "version": 3
      },
      "file_extension": ".py",
      "mimetype": "text/x-python",
      "name": "python",
      "nbconvert_exporter": "python",
      "pygments_lexer": "ipython3",
      "version": "3.8.12"
    }
  },
  "nbformat": 4,
  "nbformat_minor": 0
}
